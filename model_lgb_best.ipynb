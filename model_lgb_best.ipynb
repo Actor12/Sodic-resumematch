{
 "cells": [
  {
   "cell_type": "code",
   "execution_count": 1,
   "metadata": {
    "ExecuteTime": {
     "end_time": "2021-05-16T12:23:39.133783Z",
     "start_time": "2021-05-16T12:23:38.679981Z"
    }
   },
   "outputs": [],
   "source": [
    "import pandas as pd\n",
    "import gc\n",
    "import warnings\n",
    "from sklearn.preprocessing import LabelEncoder\n",
    "from sklearn.model_selection import StratifiedKFold\n",
    "from sklearn.metrics import f1_score, roc_auc_score, classification_report\n",
    "from tqdm import tqdm\n",
    "import lightgbm as lgb\n",
    "import catboost as ctb\n",
    "import xgboost as xgb\n",
    "import os\n",
    "import numpy as np\n",
    "\n",
    "\n",
    "warnings.simplefilter('ignore')\n",
    "pd.set_option('max_columns', None)\n",
    "pd.set_option('max_rows', 500)\n",
    "pd.options.display.max_colwidth = 10000"
   ]
  },
  {
   "cell_type": "code",
   "execution_count": 2,
   "metadata": {
    "ExecuteTime": {
     "end_time": "2021-05-16T12:23:39.138008Z",
     "start_time": "2021-05-16T12:23:39.135721Z"
    }
   },
   "outputs": [],
   "source": [
    "seed = 2021"
   ]
  },
  {
   "cell_type": "code",
   "execution_count": 3,
   "metadata": {
    "ExecuteTime": {
     "end_time": "2021-05-16T12:23:39.262043Z",
     "start_time": "2021-05-16T12:23:39.139299Z"
    }
   },
   "outputs": [],
   "source": [
    "df_train = pd.read_csv('data/trainset/recruit_folder.csv')\n",
    "df_test = pd.read_csv('data/testset/recruit_folder.csv')\n",
    "df_test['LABEL'] = np.nan"
   ]
  },
  {
   "cell_type": "code",
   "execution_count": 4,
   "metadata": {
    "ExecuteTime": {
     "end_time": "2021-05-16T12:23:39.323693Z",
     "start_time": "2021-05-16T12:23:39.263261Z"
    }
   },
   "outputs": [],
   "source": [
    "df_feature = df_train.append(df_test, sort=False)"
   ]
  },
  {
   "cell_type": "code",
   "execution_count": 5,
   "metadata": {
    "ExecuteTime": {
     "end_time": "2021-05-16T12:23:39.421766Z",
     "start_time": "2021-05-16T12:23:39.326074Z"
    }
   },
   "outputs": [
    {
     "data": {
      "text/plain": [
       "0.15927573602334874"
      ]
     },
     "execution_count": 5,
     "metadata": {},
     "output_type": "execute_result"
    }
   ],
   "source": [
    "df_feature['LABEL'].mean() #正样本占比0.159"
   ]
  },
  {
   "cell_type": "code",
   "execution_count": 6,
   "metadata": {},
   "outputs": [
    {
     "data": {
      "text/plain": [
       "(106065, 3)"
      ]
     },
     "execution_count": 6,
     "metadata": {},
     "output_type": "execute_result"
    }
   ],
   "source": [
    "df_feature.shape"
   ]
  },
  {
   "cell_type": "markdown",
   "metadata": {},
   "source": [
    "# 求职者基本信息"
   ]
  },
  {
   "cell_type": "code",
   "execution_count": 7,
   "metadata": {
    "ExecuteTime": {
     "end_time": "2021-05-16T12:23:39.671430Z",
     "start_time": "2021-05-16T12:23:39.423584Z"
    }
   },
   "outputs": [],
   "source": [
    "df_person = pd.read_csv('data/trainset/person.csv')"
   ]
  },
  {
   "cell_type": "code",
   "execution_count": 8,
   "metadata": {},
   "outputs": [],
   "source": [
    "#wf\n",
    "# df_person['LANGUAGE_REMARK_LEN'] = df_person.LANGUAGE_REMARK.str.len()\n",
    "# df_person['SPECILTY_LEN'] = df_person.SPECILTY.str.len()"
   ]
  },
  {
   "cell_type": "code",
   "execution_count": 9,
   "metadata": {
    "ExecuteTime": {
     "end_time": "2021-05-16T12:23:39.680824Z",
     "start_time": "2021-05-16T12:23:39.673259Z"
    }
   },
   "outputs": [],
   "source": [
    "df_person = df_person.drop(columns=['LANGUAGE_REMARK', 'SPECILTY'], axis=1)"
   ]
  },
  {
   "cell_type": "code",
   "execution_count": 10,
   "metadata": {
    "ExecuteTime": {
     "end_time": "2021-05-16T12:23:39.782299Z",
     "start_time": "2021-05-16T12:23:39.682616Z"
    }
   },
   "outputs": [],
   "source": [
    "df_person.rename(columns={'MAJOR': 'PERSON_MAJOR'}, inplace=True)"
   ]
  },
  {
   "cell_type": "code",
   "execution_count": 11,
   "metadata": {
    "ExecuteTime": {
     "end_time": "2021-05-16T12:23:39.878248Z",
     "start_time": "2021-05-16T12:23:39.785474Z"
    }
   },
   "outputs": [
    {
     "data": {
      "text/html": [
       "<div>\n",
       "<style scoped>\n",
       "    .dataframe tbody tr th:only-of-type {\n",
       "        vertical-align: middle;\n",
       "    }\n",
       "\n",
       "    .dataframe tbody tr th {\n",
       "        vertical-align: top;\n",
       "    }\n",
       "\n",
       "    .dataframe thead th {\n",
       "        text-align: right;\n",
       "    }\n",
       "</style>\n",
       "<table border=\"1\" class=\"dataframe\">\n",
       "  <thead>\n",
       "    <tr style=\"text-align: right;\">\n",
       "      <th></th>\n",
       "      <th>PERSON_ID</th>\n",
       "      <th>GENDER</th>\n",
       "      <th>WORK_YEARS</th>\n",
       "      <th>HIGHEST_EDU</th>\n",
       "      <th>PERSON_MAJOR</th>\n",
       "      <th>AGE</th>\n",
       "      <th>LAST_POSITION</th>\n",
       "      <th>LAST_INDUSTRY</th>\n",
       "      <th>CURR_LOC</th>\n",
       "    </tr>\n",
       "  </thead>\n",
       "  <tbody>\n",
       "    <tr>\n",
       "      <th>0</th>\n",
       "      <td>33291</td>\n",
       "      <td>男</td>\n",
       "      <td>15</td>\n",
       "      <td>大专</td>\n",
       "      <td>计算机应用技术</td>\n",
       "      <td>37</td>\n",
       "      <td>网络管理/信息安全管理</td>\n",
       "      <td>NaN</td>\n",
       "      <td>深圳市</td>\n",
       "    </tr>\n",
       "    <tr>\n",
       "      <th>1</th>\n",
       "      <td>2985277</td>\n",
       "      <td>男</td>\n",
       "      <td>12</td>\n",
       "      <td>大专</td>\n",
       "      <td>计算机应用技术</td>\n",
       "      <td>35</td>\n",
       "      <td>*公关/营销/业务类</td>\n",
       "      <td>文化体育行业</td>\n",
       "      <td>深圳市</td>\n",
       "    </tr>\n",
       "    <tr>\n",
       "      <th>2</th>\n",
       "      <td>2982066</td>\n",
       "      <td>女</td>\n",
       "      <td>10</td>\n",
       "      <td>大专</td>\n",
       "      <td>金融学（含保险学）</td>\n",
       "      <td>32</td>\n",
       "      <td>出纳</td>\n",
       "      <td>医药销售行业</td>\n",
       "      <td>南山区</td>\n",
       "    </tr>\n",
       "    <tr>\n",
       "      <th>3</th>\n",
       "      <td>3010866</td>\n",
       "      <td>男</td>\n",
       "      <td>10</td>\n",
       "      <td>中专</td>\n",
       "      <td>物理电子学</td>\n",
       "      <td>34</td>\n",
       "      <td>营销代表/销售顾问</td>\n",
       "      <td>珠宝玉石行业</td>\n",
       "      <td>深圳市</td>\n",
       "    </tr>\n",
       "    <tr>\n",
       "      <th>4</th>\n",
       "      <td>316816964</td>\n",
       "      <td>女</td>\n",
       "      <td>15</td>\n",
       "      <td>中专</td>\n",
       "      <td>学前教育学</td>\n",
       "      <td>34</td>\n",
       "      <td>小学教育/幼儿教育/保育</td>\n",
       "      <td>行业组织</td>\n",
       "      <td>福田区</td>\n",
       "    </tr>\n",
       "  </tbody>\n",
       "</table>\n",
       "</div>"
      ],
      "text/plain": [
       "   PERSON_ID GENDER  WORK_YEARS HIGHEST_EDU PERSON_MAJOR  AGE LAST_POSITION  \\\n",
       "0      33291      男          15          大专      计算机应用技术   37   网络管理/信息安全管理   \n",
       "1    2985277      男          12          大专      计算机应用技术   35    *公关/营销/业务类   \n",
       "2    2982066      女          10          大专    金融学（含保险学）   32           出纳    \n",
       "3    3010866      男          10          中专        物理电子学   34     营销代表/销售顾问   \n",
       "4  316816964      女          15          中专        学前教育学   34  小学教育/幼儿教育/保育   \n",
       "\n",
       "  LAST_INDUSTRY CURR_LOC  \n",
       "0           NaN      深圳市  \n",
       "1        文化体育行业      深圳市  \n",
       "2        医药销售行业      南山区  \n",
       "3        珠宝玉石行业      深圳市  \n",
       "4          行业组织      福田区  "
      ]
     },
     "execution_count": 11,
     "metadata": {},
     "output_type": "execute_result"
    }
   ],
   "source": [
    "df_person.head()"
   ]
  },
  {
   "cell_type": "code",
   "execution_count": 12,
   "metadata": {
    "ExecuteTime": {
     "end_time": "2021-05-16T12:23:39.976663Z",
     "start_time": "2021-05-16T12:23:39.880152Z"
    }
   },
   "outputs": [],
   "source": [
    "edu_map = {\n",
    "    '其它': 0,\n",
    "    '中专': 1,\n",
    "    '高中（职高、技校）': 2,\n",
    "    '大专': 3,\n",
    "    '大学本科': 4,\n",
    "    '硕士研究生': 5,\n",
    "    '博士后': 6\n",
    "}\n",
    "\n",
    "df_person['HIGHEST_EDU'] = df_person['HIGHEST_EDU'].map(edu_map)"
   ]
  },
  {
   "cell_type": "code",
   "execution_count": 13,
   "metadata": {
    "ExecuteTime": {
     "end_time": "2021-05-16T12:23:40.096700Z",
     "start_time": "2021-05-16T12:23:39.978823Z"
    }
   },
   "outputs": [],
   "source": [
    "def major_clean(x):\n",
    "    if type(x) == float:\n",
    "        return x\n",
    "\n",
    "    x = x.replace('【', '').replace('】', '')\n",
    "    return x\n",
    "\n",
    "\n",
    "df_person['PERSON_MAJOR'] = df_person['PERSON_MAJOR'].apply(major_clean)"
   ]
  },
  {
   "cell_type": "code",
   "execution_count": 14,
   "metadata": {
    "ExecuteTime": {
     "end_time": "2021-05-16T12:23:40.240374Z",
     "start_time": "2021-05-16T12:23:40.098955Z"
    }
   },
   "outputs": [
    {
     "data": {
      "text/plain": [
       "(106065, 11)"
      ]
     },
     "execution_count": 14,
     "metadata": {},
     "output_type": "execute_result"
    }
   ],
   "source": [
    "df_feature = df_feature.merge(df_person, how='left', on='PERSON_ID')\n",
    "df_feature.shape"
   ]
  },
  {
   "cell_type": "markdown",
   "metadata": {},
   "source": [
    "# 求职意向"
   ]
  },
  {
   "cell_type": "code",
   "execution_count": 15,
   "metadata": {
    "ExecuteTime": {
     "end_time": "2021-05-16T12:23:40.451202Z",
     "start_time": "2021-05-16T12:23:40.241742Z"
    }
   },
   "outputs": [],
   "source": [
    "df_person_cv = pd.read_csv('data/trainset/person_cv.csv')"
   ]
  },
  {
   "cell_type": "code",
   "execution_count": 16,
   "metadata": {},
   "outputs": [],
   "source": [
    "#wf\n",
    "# df_person_cv['SELF_COMMENT_LEN'] = df_person_cv.SELF_COMMENT.str.len()\n",
    "# df_person_cv['PERSON_CV_REMARK_LEN'] = df_person_cv.REMARK.str.len()"
   ]
  },
  {
   "cell_type": "code",
   "execution_count": 17,
   "metadata": {
    "ExecuteTime": {
     "end_time": "2021-05-16T12:23:40.460377Z",
     "start_time": "2021-05-16T12:23:40.452866Z"
    }
   },
   "outputs": [],
   "source": [
    "df_person_cv = df_person_cv.drop(columns=['REMARK'], axis=1)    #'SELF_COMMENT'这边先保留，留作后面拼接embedding"
   ]
  },
  {
   "cell_type": "code",
   "execution_count": 18,
   "metadata": {
    "ExecuteTime": {
     "end_time": "2021-05-16T12:23:40.554149Z",
     "start_time": "2021-05-16T12:23:40.461464Z"
    }
   },
   "outputs": [],
   "source": [
    "df_person_cv.rename(columns={'LOCATION': 'CV_LOCATION'}, inplace=True)"
   ]
  },
  {
   "cell_type": "code",
   "execution_count": 19,
   "metadata": {
    "ExecuteTime": {
     "end_time": "2021-05-16T12:23:40.661705Z",
     "start_time": "2021-05-16T12:23:40.556506Z"
    }
   },
   "outputs": [
    {
     "data": {
      "text/html": [
       "<div>\n",
       "<style scoped>\n",
       "    .dataframe tbody tr th:only-of-type {\n",
       "        vertical-align: middle;\n",
       "    }\n",
       "\n",
       "    .dataframe tbody tr th {\n",
       "        vertical-align: top;\n",
       "    }\n",
       "\n",
       "    .dataframe thead th {\n",
       "        text-align: right;\n",
       "    }\n",
       "</style>\n",
       "<table border=\"1\" class=\"dataframe\">\n",
       "  <thead>\n",
       "    <tr style=\"text-align: right;\">\n",
       "      <th></th>\n",
       "      <th>PERSON_ID</th>\n",
       "      <th>SELF_COMMENT</th>\n",
       "      <th>POSITION</th>\n",
       "      <th>CV_LOCATION</th>\n",
       "      <th>INDUSTRY</th>\n",
       "      <th>AVAILABLE_IN_DAYS</th>\n",
       "    </tr>\n",
       "  </thead>\n",
       "  <tbody>\n",
       "    <tr>\n",
       "      <th>0</th>\n",
       "      <td>2985277</td>\n",
       "      <td>面谈或电话，并提供资料</td>\n",
       "      <td>导游</td>\n",
       "      <td>深圳市</td>\n",
       "      <td>餐饮旅游娱乐行业</td>\n",
       "      <td>NaN</td>\n",
       "    </tr>\n",
       "    <tr>\n",
       "      <th>1</th>\n",
       "      <td>4736088</td>\n",
       "      <td>工作方面：积极主动，责任心较强，有团队协作精神；学习方面：谦虚好学，积极进取；心理方面：乐观开朗，能承受压力与挫折；</td>\n",
       "      <td>*机械类</td>\n",
       "      <td>深圳市</td>\n",
       "      <td>NaN</td>\n",
       "      <td>14.0</td>\n",
       "    </tr>\n",
       "    <tr>\n",
       "      <th>2</th>\n",
       "      <td>3016588</td>\n",
       "      <td>本人性格开朗,品行端正,对环境适应能力强，做事踏实，细心，工作认真负责，工作责任心强，有上进心，善于交际，人际关系融洽、专业知识扎实并很热衷于财务工作。****公司录用，将****公司的辉煌事业献上一份薄力。</td>\n",
       "      <td>*财务类/审计类</td>\n",
       "      <td>宝安区</td>\n",
       "      <td>NaN</td>\n",
       "      <td>7.0</td>\n",
       "    </tr>\n",
       "    <tr>\n",
       "      <th>3</th>\n",
       "      <td>2981299</td>\n",
       "      <td>在过去一段时间的社会实践及工作经历磨练了的求实作风、上进之心和坚忍不拔的个性。以本人良好的敬业精神以及个人的工作经验，一定能够胜任所从事的工作，创造良好的工作业绩！  　本人真诚地希望****公司工作，发挥自己的****公司贡献全部的才能。谢谢您的关注！</td>\n",
       "      <td>*电子/通讯类*</td>\n",
       "      <td>深圳市</td>\n",
       "      <td>能源/光电/电器行业</td>\n",
       "      <td>7.0</td>\n",
       "    </tr>\n",
       "    <tr>\n",
       "      <th>4</th>\n",
       "      <td>2983790</td>\n",
       "      <td>１：本人为全国注册监理工程师，职称为高级工程师，先后从事过建筑施工、房地产开发、以及监理行业。专业技术扎实，现场管理经验及手段丰富，在工程开展前能迅速做出各项计划并发现工程的难点及特点，工程进展的同时能依据自己的经验找到工程中需解决的核心问题并能迅速找到解决的办法和持续改进；对整个项目的建设有良好的大局观。 2：为人踏实上进，沟通协调能力强，善于处理人际关系，善于团队建设和管理；有良好的职业道德。3：身体健康，性格开朗，会驾驶。 4：具有良好的品牌意识，善于承受各种压力并能承受外地工作等。</td>\n",
       "      <td>结构技术</td>\n",
       "      <td>深圳市</td>\n",
       "      <td>建筑房地产行业</td>\n",
       "      <td>7.0</td>\n",
       "    </tr>\n",
       "  </tbody>\n",
       "</table>\n",
       "</div>"
      ],
      "text/plain": [
       "   PERSON_ID  \\\n",
       "0    2985277   \n",
       "1    4736088   \n",
       "2    3016588   \n",
       "3    2981299   \n",
       "4    2983790   \n",
       "\n",
       "                                                                                                                                                                                                                                              SELF_COMMENT  \\\n",
       "0                                                                                                                                                                                                                                              面谈或电话，并提供资料   \n",
       "1                                                                                                                                                                                               工作方面：积极主动，责任心较强，有团队协作精神；学习方面：谦虚好学，积极进取；心理方面：乐观开朗，能承受压力与挫折；   \n",
       "2                                                                                                                                                 本人性格开朗,品行端正,对环境适应能力强，做事踏实，细心，工作认真负责，工作责任心强，有上进心，善于交际，人际关系融洽、专业知识扎实并很热衷于财务工作。****公司录用，将****公司的辉煌事业献上一份薄力。   \n",
       "3                                                                                                                          在过去一段时间的社会实践及工作经历磨练了的求实作风、上进之心和坚忍不拔的个性。以本人良好的敬业精神以及个人的工作经验，一定能够胜任所从事的工作，创造良好的工作业绩！  　本人真诚地希望****公司工作，发挥自己的****公司贡献全部的才能。谢谢您的关注！   \n",
       "4  １：本人为全国注册监理工程师，职称为高级工程师，先后从事过建筑施工、房地产开发、以及监理行业。专业技术扎实，现场管理经验及手段丰富，在工程开展前能迅速做出各项计划并发现工程的难点及特点，工程进展的同时能依据自己的经验找到工程中需解决的核心问题并能迅速找到解决的办法和持续改进；对整个项目的建设有良好的大局观。 2：为人踏实上进，沟通协调能力强，善于处理人际关系，善于团队建设和管理；有良好的职业道德。3：身体健康，性格开朗，会驾驶。 4：具有良好的品牌意识，善于承受各种压力并能承受外地工作等。   \n",
       "\n",
       "   POSITION CV_LOCATION    INDUSTRY  AVAILABLE_IN_DAYS  \n",
       "0       导游          深圳市    餐饮旅游娱乐行业                NaN  \n",
       "1      *机械类         深圳市         NaN               14.0  \n",
       "2  *财务类/审计类         宝安区         NaN                7.0  \n",
       "3  *电子/通讯类*         深圳市  能源/光电/电器行业                7.0  \n",
       "4      结构技术         深圳市     建筑房地产行业                7.0  "
      ]
     },
     "execution_count": 19,
     "metadata": {},
     "output_type": "execute_result"
    }
   ],
   "source": [
    "df_person_cv.head()"
   ]
  },
  {
   "cell_type": "code",
   "execution_count": 20,
   "metadata": {
    "ExecuteTime": {
     "end_time": "2021-05-16T12:23:40.794587Z",
     "start_time": "2021-05-16T12:23:40.663801Z"
    }
   },
   "outputs": [
    {
     "data": {
      "text/plain": [
       "(106065, 16)"
      ]
     },
     "execution_count": 20,
     "metadata": {},
     "output_type": "execute_result"
    }
   ],
   "source": [
    "df_feature = df_feature.merge(df_person_cv, how='left', on='PERSON_ID')\n",
    "df_feature.shape"
   ]
  },
  {
   "cell_type": "markdown",
   "metadata": {},
   "source": [
    "# 工作经历"
   ]
  },
  {
   "cell_type": "code",
   "execution_count": 21,
   "metadata": {
    "ExecuteTime": {
     "end_time": "2021-05-16T12:23:41.174030Z",
     "start_time": "2021-05-16T12:23:40.797020Z"
    }
   },
   "outputs": [],
   "source": [
    "df_person_job_hist = pd.read_csv('data/trainset/person_job_hist.csv')"
   ]
  },
  {
   "cell_type": "code",
   "execution_count": 22,
   "metadata": {
    "ExecuteTime": {
     "end_time": "2021-05-16T12:23:41.181780Z",
     "start_time": "2021-05-16T12:23:41.175544Z"
    },
    "scrolled": true
   },
   "outputs": [
    {
     "data": {
      "text/html": [
       "<div>\n",
       "<style scoped>\n",
       "    .dataframe tbody tr th:only-of-type {\n",
       "        vertical-align: middle;\n",
       "    }\n",
       "\n",
       "    .dataframe tbody tr th {\n",
       "        vertical-align: top;\n",
       "    }\n",
       "\n",
       "    .dataframe thead th {\n",
       "        text-align: right;\n",
       "    }\n",
       "</style>\n",
       "<table border=\"1\" class=\"dataframe\">\n",
       "  <thead>\n",
       "    <tr style=\"text-align: right;\">\n",
       "      <th></th>\n",
       "      <th>PERSON_ID</th>\n",
       "      <th>POSITION</th>\n",
       "      <th>LOCATION</th>\n",
       "      <th>INDUSTRY</th>\n",
       "      <th>ACHIEVEMENT</th>\n",
       "    </tr>\n",
       "  </thead>\n",
       "  <tbody>\n",
       "    <tr>\n",
       "      <th>0</th>\n",
       "      <td>1281276</td>\n",
       "      <td>行政管理</td>\n",
       "      <td>罗湖区</td>\n",
       "      <td>其它</td>\n",
       "      <td>1.协助总经理处理好日常事务及和外部公共关系；2.负责协助起草总经理各类工作往来文件，并负责有关文件的呈报、催办、归档等管理事宜； 3.协助****公司企业文化、企业战略发展的规划； 4.协助****公司来宾的接待工作；****公司各个项目以及相关日常事务的执行情况，定期跟踪、汇报； 6.兼管行政人事、财务等事务。</td>\n",
       "    </tr>\n",
       "    <tr>\n",
       "      <th>1</th>\n",
       "      <td>980158</td>\n",
       "      <td>售前/售后服务</td>\n",
       "      <td>NaN</td>\n",
       "      <td>NaN</td>\n",
       "      <td>本人主要负责万佳,天虹,岁宝,民润等重要客户的品牌分类管理,收集竞争对手信息与反馈,店内执行评估,货架,助销,价格等,建立和维护重点终端客户及kA市场实践经验．</td>\n",
       "    </tr>\n",
       "    <tr>\n",
       "      <th>2</th>\n",
       "      <td>3016108</td>\n",
       "      <td>培训管理</td>\n",
       "      <td>福田区</td>\n",
       "      <td>信息行业（IT/通讯/互联网）</td>\n",
       "      <td>从事学生管理工作.并负责分校区的学生心理辅导和职业指导工作.</td>\n",
       "    </tr>\n",
       "    <tr>\n",
       "      <th>3</th>\n",
       "      <td>3016108</td>\n",
       "      <td>培训管理</td>\n",
       "      <td>福田区</td>\n",
       "      <td>信息行业（IT/通讯/互联网）</td>\n",
       "      <td>从事心理学的教学工作，并担任学校的心理辅导老师，负责了学校心理咨询中心的组建和日常咨询工作的开展，接受咨询需求****人次以上，获得了良好的社会效益。</td>\n",
       "    </tr>\n",
       "    <tr>\n",
       "      <th>4</th>\n",
       "      <td>2980989</td>\n",
       "      <td>产品开发</td>\n",
       "      <td>宝安区</td>\n",
       "      <td>电子行业</td>\n",
       "      <td>1.工程师对产品进行设计及开发 2.处理3D图和2D图,同时制作相关的资料(如BOM\\技术文件等)3.修改及更新旧产品结构及性能 4.制作产品的加工工艺及流程5.处理产品的结构及工艺问题</td>\n",
       "    </tr>\n",
       "  </tbody>\n",
       "</table>\n",
       "</div>"
      ],
      "text/plain": [
       "   PERSON_ID POSITION LOCATION         INDUSTRY  \\\n",
       "0    1281276     行政管理      罗湖区               其它   \n",
       "1     980158  售前/售后服务      NaN              NaN   \n",
       "2    3016108     培训管理      福田区  信息行业（IT/通讯/互联网）   \n",
       "3    3016108     培训管理      福田区  信息行业（IT/通讯/互联网）   \n",
       "4    2980989     产品开发      宝安区             电子行业   \n",
       "\n",
       "                                                                                                                                                      ACHIEVEMENT  \n",
       "0  1.协助总经理处理好日常事务及和外部公共关系；2.负责协助起草总经理各类工作往来文件，并负责有关文件的呈报、催办、归档等管理事宜； 3.协助****公司企业文化、企业战略发展的规划； 4.协助****公司来宾的接待工作；****公司各个项目以及相关日常事务的执行情况，定期跟踪、汇报； 6.兼管行政人事、财务等事务。  \n",
       "1                                                                                本人主要负责万佳,天虹,岁宝,民润等重要客户的品牌分类管理,收集竞争对手信息与反馈,店内执行评估,货架,助销,价格等,建立和维护重点终端客户及kA市场实践经验．  \n",
       "2                                                                                                                                 从事学生管理工作.并负责分校区的学生心理辅导和职业指导工作.   \n",
       "3                                                                                     从事心理学的教学工作，并担任学校的心理辅导老师，负责了学校心理咨询中心的组建和日常咨询工作的开展，接受咨询需求****人次以上，获得了良好的社会效益。  \n",
       "4                                                                   1.工程师对产品进行设计及开发 2.处理3D图和2D图,同时制作相关的资料(如BOM\\技术文件等)3.修改及更新旧产品结构及性能 4.制作产品的加工工艺及流程5.处理产品的结构及工艺问题  "
      ]
     },
     "execution_count": 22,
     "metadata": {},
     "output_type": "execute_result"
    }
   ],
   "source": [
    "df_person_job_hist.head()"
   ]
  },
  {
   "cell_type": "code",
   "execution_count": 23,
   "metadata": {
    "ExecuteTime": {
     "end_time": "2021-05-16T12:23:41.322533Z",
     "start_time": "2021-05-16T12:23:41.182967Z"
    }
   },
   "outputs": [],
   "source": [
    "df_tmp = df_person_job_hist.groupby(['PERSON_ID']).size().reset_index()\n",
    "df_tmp.columns = ['PERSON_ID', 'JOB_HIST_CNT']"
   ]
  },
  {
   "cell_type": "code",
   "execution_count": 24,
   "metadata": {},
   "outputs": [
    {
     "data": {
      "text/html": [
       "<div>\n",
       "<style scoped>\n",
       "    .dataframe tbody tr th:only-of-type {\n",
       "        vertical-align: middle;\n",
       "    }\n",
       "\n",
       "    .dataframe tbody tr th {\n",
       "        vertical-align: top;\n",
       "    }\n",
       "\n",
       "    .dataframe thead th {\n",
       "        text-align: right;\n",
       "    }\n",
       "</style>\n",
       "<table border=\"1\" class=\"dataframe\">\n",
       "  <thead>\n",
       "    <tr style=\"text-align: right;\">\n",
       "      <th></th>\n",
       "      <th>PERSON_ID</th>\n",
       "      <th>POSITION_COUNT</th>\n",
       "      <th>ACHIEVEMENT_LEN_MEAN</th>\n",
       "      <th>ACHIEVEMENT_LEN_SUM</th>\n",
       "    </tr>\n",
       "  </thead>\n",
       "  <tbody>\n",
       "    <tr>\n",
       "      <th>0</th>\n",
       "      <td>488</td>\n",
       "      <td>4</td>\n",
       "      <td>95.5</td>\n",
       "      <td>382.0</td>\n",
       "    </tr>\n",
       "    <tr>\n",
       "      <th>1</th>\n",
       "      <td>2477</td>\n",
       "      <td>10</td>\n",
       "      <td>96.5</td>\n",
       "      <td>965.0</td>\n",
       "    </tr>\n",
       "    <tr>\n",
       "      <th>2</th>\n",
       "      <td>3929</td>\n",
       "      <td>3</td>\n",
       "      <td>9.0</td>\n",
       "      <td>18.0</td>\n",
       "    </tr>\n",
       "    <tr>\n",
       "      <th>3</th>\n",
       "      <td>4706</td>\n",
       "      <td>2</td>\n",
       "      <td>108.0</td>\n",
       "      <td>216.0</td>\n",
       "    </tr>\n",
       "    <tr>\n",
       "      <th>4</th>\n",
       "      <td>5813</td>\n",
       "      <td>1</td>\n",
       "      <td>NaN</td>\n",
       "      <td>0.0</td>\n",
       "    </tr>\n",
       "  </tbody>\n",
       "</table>\n",
       "</div>"
      ],
      "text/plain": [
       "   PERSON_ID  POSITION_COUNT  ACHIEVEMENT_LEN_MEAN  ACHIEVEMENT_LEN_SUM\n",
       "0        488               4                  95.5                382.0\n",
       "1       2477              10                  96.5                965.0\n",
       "2       3929               3                   9.0                 18.0\n",
       "3       4706               2                 108.0                216.0\n",
       "4       5813               1                   NaN                  0.0"
      ]
     },
     "execution_count": 24,
     "metadata": {},
     "output_type": "execute_result"
    }
   ],
   "source": [
    "#wf 项目详细经历的总字数以及平均字数和经历中岗位类别数\n",
    "df_person_job_hist['ACHIEVEMENT_LEN'] = df_person_job_hist.ACHIEVEMENT.str.len()\n",
    "df_tmp_jobhist = df_person_job_hist.groupby(['PERSON_ID']).aggregate({\"POSITION\": \"count\", \"ACHIEVEMENT_LEN\": [\"mean\", \"sum\"]}).reset_index()\n",
    "\n",
    "df_tmp_jobhist.columns = ['PERSON_ID','POSITION_COUNT','ACHIEVEMENT_LEN_MEAN','ACHIEVEMENT_LEN_SUM']\n",
    "df_tmp_jobhist.head()"
   ]
  },
  {
   "cell_type": "code",
   "execution_count": 25,
   "metadata": {},
   "outputs": [
    {
     "data": {
      "text/plain": [
       "(106065, 20)"
      ]
     },
     "execution_count": 25,
     "metadata": {},
     "output_type": "execute_result"
    }
   ],
   "source": [
    "df_feature = df_feature.merge(df_tmp, how='left', on='PERSON_ID')\n",
    "df_feature = df_feature.merge(df_tmp_jobhist, how='left', on='PERSON_ID')\n",
    "df_feature.shape"
   ]
  },
  {
   "cell_type": "markdown",
   "metadata": {},
   "source": [
    "# 招聘岗位信息"
   ]
  },
  {
   "cell_type": "code",
   "execution_count": 26,
   "metadata": {
    "ExecuteTime": {
     "end_time": "2021-05-16T12:23:41.372522Z",
     "start_time": "2021-05-16T12:23:41.325072Z"
    }
   },
   "outputs": [],
   "source": [
    "df_recruit = pd.read_csv('data/trainset/recruit.csv')"
   ]
  },
  {
   "cell_type": "code",
   "execution_count": 27,
   "metadata": {},
   "outputs": [],
   "source": [
    "#wf\n",
    "df_recruit['DETAIL_LEN'] = df_recruit.DETAIL.str.len()"
   ]
  },
  {
   "cell_type": "code",
   "execution_count": 28,
   "metadata": {
    "ExecuteTime": {
     "end_time": "2021-05-16T12:23:41.453143Z",
     "start_time": "2021-05-16T12:23:41.374140Z"
    }
   },
   "outputs": [],
   "source": [
    "df_recruit = df_recruit.drop(columns=['DETAIL'], axis=1)"
   ]
  },
  {
   "cell_type": "code",
   "execution_count": 29,
   "metadata": {
    "ExecuteTime": {
     "end_time": "2021-05-16T12:23:41.575046Z",
     "start_time": "2021-05-16T12:23:41.455719Z"
    }
   },
   "outputs": [],
   "source": [
    "df_recruit.rename(columns={\n",
    "    'LOCATION': 'RECRUIT_LOCATION',\n",
    "    'MAJOR': 'RECRUIT_MAJOR'\n",
    "},\n",
    "                  inplace=True)"
   ]
  },
  {
   "cell_type": "code",
   "execution_count": 30,
   "metadata": {
    "ExecuteTime": {
     "end_time": "2021-05-16T12:23:41.666025Z",
     "start_time": "2021-05-16T12:23:41.577680Z"
    }
   },
   "outputs": [
    {
     "data": {
      "text/html": [
       "<div>\n",
       "<style scoped>\n",
       "    .dataframe tbody tr th:only-of-type {\n",
       "        vertical-align: middle;\n",
       "    }\n",
       "\n",
       "    .dataframe tbody tr th {\n",
       "        vertical-align: top;\n",
       "    }\n",
       "\n",
       "    .dataframe thead th {\n",
       "        text-align: right;\n",
       "    }\n",
       "</style>\n",
       "<table border=\"1\" class=\"dataframe\">\n",
       "  <thead>\n",
       "    <tr style=\"text-align: right;\">\n",
       "      <th></th>\n",
       "      <th>RECRUIT_ID</th>\n",
       "      <th>PERSON_TYPE_CODE</th>\n",
       "      <th>PERSON_TYPE</th>\n",
       "      <th>JOB_TITLE</th>\n",
       "      <th>RECRUIT_MAJOR</th>\n",
       "      <th>LOWER_EDU</th>\n",
       "      <th>RECRUIT_LOCATION</th>\n",
       "      <th>WORK_YEARS_RANGE</th>\n",
       "      <th>DETAIL_LEN</th>\n",
       "    </tr>\n",
       "  </thead>\n",
       "  <tbody>\n",
       "    <tr>\n",
       "      <th>0</th>\n",
       "      <td>135144</td>\n",
       "      <td>NaN</td>\n",
       "      <td>NaN</td>\n",
       "      <td>业务员</td>\n",
       "      <td>NaN</td>\n",
       "      <td>高中（职高、技校）</td>\n",
       "      <td>深圳市</td>\n",
       "      <td>应届毕业生</td>\n",
       "      <td>NaN</td>\n",
       "    </tr>\n",
       "    <tr>\n",
       "      <th>1</th>\n",
       "      <td>137045</td>\n",
       "      <td>NaN</td>\n",
       "      <td>NaN</td>\n",
       "      <td>电子技术支持工程师</td>\n",
       "      <td>电子信息工程学</td>\n",
       "      <td>中专</td>\n",
       "      <td>龙岗区</td>\n",
       "      <td>0至1年</td>\n",
       "      <td>70.0</td>\n",
       "    </tr>\n",
       "    <tr>\n",
       "      <th>2</th>\n",
       "      <td>146798</td>\n",
       "      <td>NaN</td>\n",
       "      <td>NaN</td>\n",
       "      <td>仓管</td>\n",
       "      <td>【工商管理】</td>\n",
       "      <td>中专</td>\n",
       "      <td>龙岗区</td>\n",
       "      <td>0至1年</td>\n",
       "      <td>41.0</td>\n",
       "    </tr>\n",
       "    <tr>\n",
       "      <th>3</th>\n",
       "      <td>436321</td>\n",
       "      <td>2.0</td>\n",
       "      <td>社会无职</td>\n",
       "      <td>销售代表</td>\n",
       "      <td>NaN</td>\n",
       "      <td>中专</td>\n",
       "      <td>深圳市</td>\n",
       "      <td>应届毕业生</td>\n",
       "      <td>43.0</td>\n",
       "    </tr>\n",
       "    <tr>\n",
       "      <th>4</th>\n",
       "      <td>440725</td>\n",
       "      <td>99.0</td>\n",
       "      <td>不限</td>\n",
       "      <td>造价员</td>\n",
       "      <td>工民建</td>\n",
       "      <td>中专</td>\n",
       "      <td>深圳市</td>\n",
       "      <td>3至5年</td>\n",
       "      <td>109.0</td>\n",
       "    </tr>\n",
       "  </tbody>\n",
       "</table>\n",
       "</div>"
      ],
      "text/plain": [
       "   RECRUIT_ID  PERSON_TYPE_CODE PERSON_TYPE  JOB_TITLE RECRUIT_MAJOR  \\\n",
       "0      135144               NaN         NaN        业务员           NaN   \n",
       "1      137045               NaN         NaN  电子技术支持工程师       电子信息工程学   \n",
       "2      146798               NaN         NaN         仓管        【工商管理】   \n",
       "3      436321               2.0        社会无职       销售代表           NaN   \n",
       "4      440725              99.0          不限        造价员           工民建   \n",
       "\n",
       "   LOWER_EDU RECRUIT_LOCATION WORK_YEARS_RANGE  DETAIL_LEN  \n",
       "0  高中（职高、技校）              深圳市            应届毕业生         NaN  \n",
       "1         中专              龙岗区             0至1年        70.0  \n",
       "2         中专              龙岗区             0至1年        41.0  \n",
       "3         中专              深圳市            应届毕业生        43.0  \n",
       "4         中专              深圳市             3至5年       109.0  "
      ]
     },
     "execution_count": 30,
     "metadata": {},
     "output_type": "execute_result"
    }
   ],
   "source": [
    "df_recruit.head()"
   ]
  },
  {
   "cell_type": "code",
   "execution_count": 31,
   "metadata": {
    "ExecuteTime": {
     "end_time": "2021-05-16T12:23:41.776644Z",
     "start_time": "2021-05-16T12:23:41.668008Z"
    }
   },
   "outputs": [],
   "source": [
    "def major_clean(x):\n",
    "    if type(x) == float:\n",
    "        return x\n",
    "\n",
    "    x = x.replace('【', '').replace('】', '')\n",
    "    return x\n",
    "\n",
    "\n",
    "df_recruit['RECRUIT_MAJOR'] = df_recruit['RECRUIT_MAJOR'].apply(major_clean)"
   ]
  },
  {
   "cell_type": "code",
   "execution_count": 32,
   "metadata": {
    "ExecuteTime": {
     "end_time": "2021-05-16T12:23:41.876577Z",
     "start_time": "2021-05-16T12:23:41.783215Z"
    }
   },
   "outputs": [],
   "source": [
    "df_recruit['LOWER_EDU'] = df_recruit['LOWER_EDU'].map(edu_map)"
   ]
  },
  {
   "cell_type": "code",
   "execution_count": 33,
   "metadata": {
    "ExecuteTime": {
     "end_time": "2021-05-16T12:23:41.987314Z",
     "start_time": "2021-05-16T12:23:41.879972Z"
    }
   },
   "outputs": [],
   "source": [
    "work_year_range_map = {\n",
    "    '应届毕业生': 0,\n",
    "    '0至1年': 1,\n",
    "    '1至2年': 2,\n",
    "    '3至5年': 3,\n",
    "    '5年以上': 4,\n",
    "    '不限': 5\n",
    "}\n",
    "df_recruit['WORK_YEARS_RANGE'] = df_recruit['WORK_YEARS_RANGE'].map(\n",
    "    work_year_range_map)"
   ]
  },
  {
   "cell_type": "code",
   "execution_count": 34,
   "metadata": {},
   "outputs": [],
   "source": [
    "person_type_range_map = {\n",
    "    'nan': 0,\n",
    "    '不限': 1,\n",
    "    '社会无职': 2,\n",
    "    '应届毕业': 3,\n",
    "    '社会在职': 4\n",
    "}\n",
    "df_recruit[\"PERSON_TYPE\"] = df_recruit[\"PERSON_TYPE\"].map(person_type_range_map)"
   ]
  },
  {
   "cell_type": "code",
   "execution_count": 35,
   "metadata": {
    "ExecuteTime": {
     "end_time": "2021-05-16T12:23:42.141010Z",
     "start_time": "2021-05-16T12:23:41.990028Z"
    }
   },
   "outputs": [
    {
     "data": {
      "text/plain": [
       "(106065, 28)"
      ]
     },
     "execution_count": 35,
     "metadata": {},
     "output_type": "execute_result"
    }
   ],
   "source": [
    "df_feature = df_feature.merge(df_recruit, how='left', on='RECRUIT_ID')\n",
    "df_feature.shape"
   ]
  },
  {
   "cell_type": "markdown",
   "metadata": {},
   "source": [
    "## person的项目资料信息"
   ]
  },
  {
   "cell_type": "code",
   "execution_count": 36,
   "metadata": {},
   "outputs": [],
   "source": [
    "#wf  计算每个人的项目个数\n",
    "#df_person_project = pd.read_csv('data/trainset/person_project.csv')\n",
    "#df_person_project.head()\n",
    "# df_tmp_project = df_person_project.groupby(['PERSON_ID'])['PROJECT_NAME'].count().reset_index()\n",
    "# df_tmp_project.columns = ['PERSON_ID','PROJECT_COUNT']\n",
    "# print(df_tmp_project.shape)  #(1838,2)  可以看出，有项目资料的样本数比较少。大约只占所有样本的1/20\n",
    "# df_feature = df_feature.merge(df_tmp_project,how='left',on='PERSON_ID')\n",
    "# df_feature.shape\n",
    "\n",
    "# 添加后几乎没效果"
   ]
  },
  {
   "cell_type": "markdown",
   "metadata": {},
   "source": [
    "## 每个人的证书"
   ]
  },
  {
   "cell_type": "code",
   "execution_count": 37,
   "metadata": {},
   "outputs": [],
   "source": [
    "#wf  每个人证书中remark长度均值和总长,证书数量\n",
    "# df_person_cert = pd.read_csv('data/trainset/person_pro_cert.csv')\n",
    "# df_person_cert['PRO_CERT_DSP'].unique()\n",
    "#df_person_cert['CERT_REMARK_LEN'] = df_person_cert.REMARK.str.len()\n",
    "# df_person_cert.drop(['REMARK'],axis=1,inplace=True)\n",
    "# df_tmp_cert = df_person_cert.groupby(['PERSON_ID']).aggregate({\"PRO_CERT_DSP\": \"count\", \"CERT_REMARK_LEN\": [\"mean\", \"sum\"]}).reset_index()\n",
    "# df_tmp_cert.columns = ['PERSON_ID','CERT_COUNT','CERT_REMARK_LEN_MEAN','CERT_REMARK_LEN_SUM']\n",
    "# df_tmp_cert.head()"
   ]
  },
  {
   "cell_type": "code",
   "execution_count": 38,
   "metadata": {},
   "outputs": [],
   "source": [
    "# tmp1 = df_person_cert.groupby(['PERSON_ID'])['PRO_CERT_DSP'].apply(lambda x:x.str.cat(sep=' ')).reset_index()   #证书名称这个文本特征要留着，用于后面拼接它的embedding，，错了，这里groupby了，制作embedding的时候没有groupby，因此拼不上\n",
    "# tmp1.columns = ['PERSON_ID','PRO_CERT_DSP']\n",
    "# df_tmp_cert = df_tmp_cert.merge(tmp1,how='left',on='PERSON_ID')"
   ]
  },
  {
   "cell_type": "code",
   "execution_count": 39,
   "metadata": {},
   "outputs": [],
   "source": [
    "# df_feature = df_feature.merge(df_tmp_cert,how='left',on='PERSON_ID')\n",
    "# df_feature.shape"
   ]
  },
  {
   "cell_type": "markdown",
   "metadata": {},
   "source": [
    "# embedding 特征"
   ]
  },
  {
   "cell_type": "code",
   "execution_count": 40,
   "metadata": {},
   "outputs": [
    {
     "data": {
      "text/plain": [
       "Index(['RECRUIT_ID', 'PERSON_ID', 'LABEL', 'GENDER', 'WORK_YEARS',\n",
       "       'HIGHEST_EDU', 'PERSON_MAJOR', 'AGE', 'LAST_POSITION', 'LAST_INDUSTRY',\n",
       "       'CURR_LOC', 'SELF_COMMENT', 'POSITION', 'CV_LOCATION', 'INDUSTRY',\n",
       "       'AVAILABLE_IN_DAYS', 'JOB_HIST_CNT', 'POSITION_COUNT',\n",
       "       'ACHIEVEMENT_LEN_MEAN', 'ACHIEVEMENT_LEN_SUM', 'PERSON_TYPE_CODE',\n",
       "       'PERSON_TYPE', 'JOB_TITLE', 'RECRUIT_MAJOR', 'LOWER_EDU',\n",
       "       'RECRUIT_LOCATION', 'WORK_YEARS_RANGE', 'DETAIL_LEN'],\n",
       "      dtype='object')"
      ]
     },
     "execution_count": 40,
     "metadata": {},
     "output_type": "execute_result"
    }
   ],
   "source": [
    "df_feature.columns"
   ]
  },
  {
   "cell_type": "code",
   "execution_count": 41,
   "metadata": {
    "ExecuteTime": {
     "end_time": "2021-05-16T12:23:42.239459Z",
     "start_time": "2021-05-16T12:23:42.143734Z"
    }
   },
   "outputs": [
    {
     "name": "stdout",
     "output_type": "stream",
     "text": [
      "(106065, 58)\n"
     ]
    }
   ],
   "source": [
    "job_title_embeddings = pd.read_pickle('data/embedding/job_title.pkl')\n",
    "df_feature = df_feature.merge(job_title_embeddings, how='left', on='JOB_TITLE')\n",
    "print(df_feature.shape)\n",
    "del df_feature['JOB_TITLE']"
   ]
  },
  {
   "cell_type": "code",
   "execution_count": 42,
   "metadata": {},
   "outputs": [
    {
     "data": {
      "text/plain": [
       "(972, 31)"
      ]
     },
     "execution_count": 42,
     "metadata": {},
     "output_type": "execute_result"
    }
   ],
   "source": [
    "job_title_embeddings.shape"
   ]
  },
  {
   "cell_type": "code",
   "execution_count": 45,
   "metadata": {},
   "outputs": [],
   "source": [
    "position = pd.read_pickle('data/position_score.pkl')\n",
    "df_feature = df_feature.merge(position,how=\"left\")"
   ]
  },
  {
   "cell_type": "code",
   "execution_count": 46,
   "metadata": {},
   "outputs": [],
   "source": [
    "# person_major_embeddings = pd.read_pickle('data/embedding/person_major.pkl')\n",
    "# person_major_embeddings.rename(columns={\n",
    "#     'MAJOR': 'PERSON_MAJOR'\n",
    "# },inplace=True)\n",
    "# print(person_major_embeddings.head())\n",
    "# df_feature = df_feature.merge(person_major_embeddings, how='left', on='PERSON_MAJOR')\n",
    "# del df_feature['JOB_TITLE']"
   ]
  },
  {
   "cell_type": "code",
   "execution_count": 47,
   "metadata": {},
   "outputs": [],
   "source": [
    "#wf 加入了person的证书embedding###   embeding特征当时没有groupby，因此这里拼不了  然后我在embedding之前做了groupby\n",
    "# person_cert_embeddings = pd.read_pickle('data/embedding/person_cert.pkl')\n",
    "# df_feature = df_feature.merge(person_cert_embeddings, how='left', on='PRO_CERT_DSP')\n",
    "#del df_feature['PRO_CERT_DSP']\n",
    "#添加后几乎没效果"
   ]
  },
  {
   "cell_type": "code",
   "execution_count": 48,
   "metadata": {},
   "outputs": [],
   "source": [
    "#wf 加入了person_cv的自我介绍的embedding### 该特征降分！！！\n",
    "# person_selfcomment_embeddings = pd.read_pickle('data/embedding/person_selfcomment.pkl')\n",
    "# print(person_selfcomment_embeddings.shape)\n",
    "# df_feature = df_feature.merge(person_selfcomment_embeddings, how='left', on='SELF_COMMENT')\n",
    "# del df_feature['SELF_COMMENT']\n",
    "# df_feature.shape"
   ]
  },
  {
   "cell_type": "markdown",
   "metadata": {},
   "source": [
    "# 交叉特征"
   ]
  },
  {
   "cell_type": "code",
   "execution_count": 49,
   "metadata": {
    "ExecuteTime": {
     "end_time": "2021-05-16T12:23:43.263824Z",
     "start_time": "2021-05-16T12:23:42.241550Z"
    },
    "code_folding": [
     0
    ]
   },
   "outputs": [
    {
     "name": "stderr",
     "output_type": "stream",
     "text": [
      "100%|██████████| 2/2 [00:00<00:00, 17.27it/s]\n",
      "100%|██████████| 2/2 [00:00<00:00, 18.11it/s]\n",
      "100%|██████████| 2/2 [00:00<00:00, 18.27it/s]\n",
      "100%|██████████| 2/2 [00:00<00:00, 18.02it/s]\n",
      "100%|██████████| 2/2 [00:00<00:00, 18.30it/s]\n",
      "100%|██████████| 2/2 [00:00<00:00,  7.70it/s]\n"
     ]
    },
    {
     "data": {
      "text/plain": [
       "0"
      ]
     },
     "execution_count": 49,
     "metadata": {},
     "output_type": "execute_result"
    }
   ],
   "source": [
    "# 简单统计\n",
    "def stat(df, df_merge, group_by, agg):\n",
    "    group = df.groupby(group_by).agg(agg)\n",
    "\n",
    "    columns = []\n",
    "    for on, methods in agg.items():\n",
    "        for method in methods:\n",
    "            columns.append('{}_{}_{}'.format('_'.join(group_by), on, method))\n",
    "    group.columns = columns\n",
    "    group.reset_index(inplace=True)\n",
    "    df_merge = df_merge.merge(group, on=group_by, how='left')\n",
    "\n",
    "    del (group)\n",
    "    gc.collect()\n",
    "\n",
    "    return df_merge\n",
    "\n",
    "\n",
    "def statis_feat(df_know, df_unknow):\n",
    "    for f in tqdm([['CV_LOCATION'], ['RECRUIT_ID']]):\n",
    "        df_unknow = stat(df_know, df_unknow, f, {'LABEL': ['mean']})\n",
    "\n",
    "    return df_unknow\n",
    "\n",
    "\n",
    "# 5折交叉\n",
    "df_train = df_feature[~df_feature['LABEL'].isnull()]\n",
    "df_train = df_train.reset_index(drop=True)\n",
    "df_test = df_feature[df_feature['LABEL'].isnull()]\n",
    "\n",
    "df_stas_feat = None\n",
    "kfold = StratifiedKFold(n_splits=5, random_state=seed, shuffle=True)\n",
    "for train_index, val_index in kfold.split(df_train, df_train['LABEL']):\n",
    "    df_fold_train = df_train.iloc[train_index]\n",
    "    df_fold_val = df_train.iloc[val_index]\n",
    "\n",
    "    df_fold_val = statis_feat(df_fold_train, df_fold_val)\n",
    "    df_stas_feat = pd.concat([df_stas_feat, df_fold_val], axis=0)\n",
    "\n",
    "    del (df_fold_train)\n",
    "    del (df_fold_val)\n",
    "    gc.collect()\n",
    "\n",
    "df_test = statis_feat(df_train, df_test)\n",
    "df_feature = pd.concat([df_stas_feat, df_test], axis=0)\n",
    "\n",
    "del (df_stas_feat)\n",
    "del (df_train)\n",
    "del (df_test)\n",
    "gc.collect()"
   ]
  },
  {
   "cell_type": "code",
   "execution_count": 50,
   "metadata": {
    "ExecuteTime": {
     "end_time": "2021-05-16T12:23:43.305241Z",
     "start_time": "2021-05-16T12:23:43.264924Z"
    }
   },
   "outputs": [],
   "source": [
    "df_score = pd.read_pickle('data/score.pkl')\n",
    "df_feature = df_feature.merge(df_score, how='left')"
   ]
  },
  {
   "cell_type": "code",
   "execution_count": 51,
   "metadata": {},
   "outputs": [
    {
     "data": {
      "text/html": [
       "<div>\n",
       "<style scoped>\n",
       "    .dataframe tbody tr th:only-of-type {\n",
       "        vertical-align: middle;\n",
       "    }\n",
       "\n",
       "    .dataframe tbody tr th {\n",
       "        vertical-align: top;\n",
       "    }\n",
       "\n",
       "    .dataframe thead th {\n",
       "        text-align: right;\n",
       "    }\n",
       "</style>\n",
       "<table border=\"1\" class=\"dataframe\">\n",
       "  <thead>\n",
       "    <tr style=\"text-align: right;\">\n",
       "      <th></th>\n",
       "      <th>RECRUIT_ID</th>\n",
       "      <th>PERSON_ID</th>\n",
       "      <th>recruit_person_MAJOR_score</th>\n",
       "    </tr>\n",
       "  </thead>\n",
       "  <tbody>\n",
       "    <tr>\n",
       "      <th>0</th>\n",
       "      <td>825081</td>\n",
       "      <td>6256839</td>\n",
       "      <td>-1.000000</td>\n",
       "    </tr>\n",
       "    <tr>\n",
       "      <th>1</th>\n",
       "      <td>772899</td>\n",
       "      <td>5413605</td>\n",
       "      <td>0.026797</td>\n",
       "    </tr>\n",
       "    <tr>\n",
       "      <th>2</th>\n",
       "      <td>795668</td>\n",
       "      <td>5219796</td>\n",
       "      <td>-1.000000</td>\n",
       "    </tr>\n",
       "    <tr>\n",
       "      <th>3</th>\n",
       "      <td>769754</td>\n",
       "      <td>5700693</td>\n",
       "      <td>-1.000000</td>\n",
       "    </tr>\n",
       "    <tr>\n",
       "      <th>4</th>\n",
       "      <td>773645</td>\n",
       "      <td>6208645</td>\n",
       "      <td>0.261549</td>\n",
       "    </tr>\n",
       "  </tbody>\n",
       "</table>\n",
       "</div>"
      ],
      "text/plain": [
       "   RECRUIT_ID  PERSON_ID  recruit_person_MAJOR_score\n",
       "0      825081    6256839                   -1.000000\n",
       "1      772899    5413605                    0.026797\n",
       "2      795668    5219796                   -1.000000\n",
       "3      769754    5700693                   -1.000000\n",
       "4      773645    6208645                    0.261549"
      ]
     },
     "execution_count": 51,
     "metadata": {},
     "output_type": "execute_result"
    }
   ],
   "source": [
    "df_score.head()"
   ]
  },
  {
   "cell_type": "code",
   "execution_count": 52,
   "metadata": {
    "ExecuteTime": {
     "end_time": "2021-05-16T12:23:43.406932Z",
     "start_time": "2021-05-16T12:23:43.307145Z"
    }
   },
   "outputs": [],
   "source": [
    "# count,一个人投了几个简历，一个职位有几个人投\n",
    "for f in [['PERSON_ID'], ['POSITION']]:\n",
    "    df_feature['{}_cnt'.format(\n",
    "        '_'.join(f))] = df_feature.groupby(f)['PERSON_ID'].transform('count')"
   ]
  },
  {
   "cell_type": "code",
   "execution_count": 53,
   "metadata": {
    "ExecuteTime": {
     "end_time": "2021-05-16T12:23:43.505893Z",
     "start_time": "2021-05-16T12:23:43.408544Z"
    }
   },
   "outputs": [],
   "source": [
    "# nunique\n",
    "for f1, f2 in [['RECRUIT_ID', 'POSITION'], ['RECRUIT_ID', 'PERSON_MAJOR']]:\n",
    "    df_feature[f'{f1}_{f2}_nunique'] = df_feature.groupby(\n",
    "        [f1])[f2].transform('nunique')"
   ]
  },
  {
   "cell_type": "code",
   "execution_count": 54,
   "metadata": {
    "ExecuteTime": {
     "end_time": "2021-05-16T12:23:43.674608Z",
     "start_time": "2021-05-16T12:23:43.507149Z"
    }
   },
   "outputs": [],
   "source": [
    "# 连续变量统计\n",
    "for f1, f2 in [['RECRUIT_ID', 'WORK_YEARS']]:\n",
    "    df_temp = df_feature.groupby(f1)[f2].agg([\n",
    "        (f'{f1}_{f2}_mean'.format(f),'mean'),\n",
    "        (f'{f1}_{f2}_max'.format(f),'max'),\n",
    "        (f'{f1}_{f2}_min'.format(f),'min'),\n",
    "        (f'{f1}_{f2}_std'.format(f),'std'),\n",
    "        ]).reset_index()\n",
    "    df_feature = df_feature.merge(df_temp, how='left')"
   ]
  },
  {
   "cell_type": "code",
   "execution_count": 55,
   "metadata": {
    "ExecuteTime": {
     "end_time": "2021-05-16T12:23:45.979463Z",
     "start_time": "2021-05-16T12:23:43.675930Z"
    }
   },
   "outputs": [],
   "source": [
    "df_feature['CV_RECRUIT_LOCATION_equal'] = df_feature[[\n",
    "    'RECRUIT_LOCATION', 'CV_LOCATION'\n",
    "]].apply(lambda x: x['RECRUIT_LOCATION'] == x['CV_LOCATION'], axis=1)\n",
    "\n",
    "df_feature['LOWER_EDU_HIGHEST_EDU_higher'] = df_feature[[\n",
    "    'LOWER_EDU', 'HIGHEST_EDU'\n",
    "]].apply(lambda x: x['LOWER_EDU'] > x['HIGHEST_EDU'], axis=1)"
   ]
  },
  {
   "cell_type": "code",
   "execution_count": 56,
   "metadata": {
    "ExecuteTime": {
     "end_time": "2021-05-16T12:23:46.028014Z",
     "start_time": "2021-05-16T12:23:45.980695Z"
    }
   },
   "outputs": [
    {
     "data": {
      "text/html": [
       "<div>\n",
       "<style scoped>\n",
       "    .dataframe tbody tr th:only-of-type {\n",
       "        vertical-align: middle;\n",
       "    }\n",
       "\n",
       "    .dataframe tbody tr th {\n",
       "        vertical-align: top;\n",
       "    }\n",
       "\n",
       "    .dataframe thead th {\n",
       "        text-align: right;\n",
       "    }\n",
       "</style>\n",
       "<table border=\"1\" class=\"dataframe\">\n",
       "  <thead>\n",
       "    <tr style=\"text-align: right;\">\n",
       "      <th></th>\n",
       "      <th>RECRUIT_ID</th>\n",
       "      <th>PERSON_ID</th>\n",
       "      <th>LABEL</th>\n",
       "      <th>GENDER</th>\n",
       "      <th>WORK_YEARS</th>\n",
       "      <th>HIGHEST_EDU</th>\n",
       "      <th>PERSON_MAJOR</th>\n",
       "      <th>AGE</th>\n",
       "      <th>LAST_POSITION</th>\n",
       "      <th>LAST_INDUSTRY</th>\n",
       "      <th>CURR_LOC</th>\n",
       "      <th>SELF_COMMENT</th>\n",
       "      <th>POSITION</th>\n",
       "      <th>CV_LOCATION</th>\n",
       "      <th>INDUSTRY</th>\n",
       "      <th>AVAILABLE_IN_DAYS</th>\n",
       "      <th>JOB_HIST_CNT</th>\n",
       "      <th>POSITION_COUNT</th>\n",
       "      <th>ACHIEVEMENT_LEN_MEAN</th>\n",
       "      <th>ACHIEVEMENT_LEN_SUM</th>\n",
       "      <th>PERSON_TYPE_CODE</th>\n",
       "      <th>PERSON_TYPE</th>\n",
       "      <th>RECRUIT_MAJOR</th>\n",
       "      <th>LOWER_EDU</th>\n",
       "      <th>RECRUIT_LOCATION</th>\n",
       "      <th>WORK_YEARS_RANGE</th>\n",
       "      <th>DETAIL_LEN</th>\n",
       "      <th>JOB_TITLE_ernie_emb_0</th>\n",
       "      <th>JOB_TITLE_ernie_emb_1</th>\n",
       "      <th>JOB_TITLE_ernie_emb_2</th>\n",
       "      <th>JOB_TITLE_ernie_emb_3</th>\n",
       "      <th>JOB_TITLE_ernie_emb_4</th>\n",
       "      <th>JOB_TITLE_ernie_emb_5</th>\n",
       "      <th>JOB_TITLE_ernie_emb_6</th>\n",
       "      <th>JOB_TITLE_ernie_emb_7</th>\n",
       "      <th>JOB_TITLE_ernie_emb_8</th>\n",
       "      <th>JOB_TITLE_ernie_emb_9</th>\n",
       "      <th>JOB_TITLE_ernie_emb_10</th>\n",
       "      <th>JOB_TITLE_ernie_emb_11</th>\n",
       "      <th>JOB_TITLE_ernie_emb_12</th>\n",
       "      <th>JOB_TITLE_ernie_emb_13</th>\n",
       "      <th>JOB_TITLE_ernie_emb_14</th>\n",
       "      <th>JOB_TITLE_ernie_emb_15</th>\n",
       "      <th>JOB_TITLE_ernie_emb_16</th>\n",
       "      <th>JOB_TITLE_ernie_emb_17</th>\n",
       "      <th>JOB_TITLE_ernie_emb_18</th>\n",
       "      <th>JOB_TITLE_ernie_emb_19</th>\n",
       "      <th>JOB_TITLE_ernie_emb_20</th>\n",
       "      <th>JOB_TITLE_ernie_emb_21</th>\n",
       "      <th>JOB_TITLE_ernie_emb_22</th>\n",
       "      <th>JOB_TITLE_ernie_emb_23</th>\n",
       "      <th>JOB_TITLE_ernie_emb_24</th>\n",
       "      <th>JOB_TITLE_ernie_emb_25</th>\n",
       "      <th>JOB_TITLE_ernie_emb_26</th>\n",
       "      <th>JOB_TITLE_ernie_emb_27</th>\n",
       "      <th>JOB_TITLE_ernie_emb_28</th>\n",
       "      <th>JOB_TITLE_ernie_emb_29</th>\n",
       "      <th>recruit_person_POSITION_score</th>\n",
       "      <th>CV_LOCATION_LABEL_mean</th>\n",
       "      <th>RECRUIT_ID_LABEL_mean</th>\n",
       "      <th>recruit_person_MAJOR_score</th>\n",
       "      <th>PERSON_ID_cnt</th>\n",
       "      <th>POSITION_cnt</th>\n",
       "      <th>RECRUIT_ID_POSITION_nunique</th>\n",
       "      <th>RECRUIT_ID_PERSON_MAJOR_nunique</th>\n",
       "      <th>RECRUIT_ID_WORK_YEARS_mean</th>\n",
       "      <th>RECRUIT_ID_WORK_YEARS_max</th>\n",
       "      <th>RECRUIT_ID_WORK_YEARS_min</th>\n",
       "      <th>RECRUIT_ID_WORK_YEARS_std</th>\n",
       "      <th>CV_RECRUIT_LOCATION_equal</th>\n",
       "      <th>LOWER_EDU_HIGHEST_EDU_higher</th>\n",
       "    </tr>\n",
       "  </thead>\n",
       "  <tbody>\n",
       "    <tr>\n",
       "      <th>0</th>\n",
       "      <td>772899</td>\n",
       "      <td>5413605</td>\n",
       "      <td>0.0</td>\n",
       "      <td>女</td>\n",
       "      <td>0</td>\n",
       "      <td>3.0</td>\n",
       "      <td>文秘</td>\n",
       "      <td>29</td>\n",
       "      <td>人力资源管理</td>\n",
       "      <td>通讯行业</td>\n",
       "      <td>广东省</td>\n",
       "      <td>热情大方，责任心强，工作认真负责，有较强的适应能力和学习能力，有扎实的专业功底</td>\n",
       "      <td>行政管理</td>\n",
       "      <td>深圳市</td>\n",
       "      <td>NaN</td>\n",
       "      <td>30.0</td>\n",
       "      <td>2.0</td>\n",
       "      <td>2.0</td>\n",
       "      <td>26.5</td>\n",
       "      <td>53.0</td>\n",
       "      <td>1.0</td>\n",
       "      <td>4.0</td>\n",
       "      <td>旅游管理</td>\n",
       "      <td>1.0</td>\n",
       "      <td>福田区</td>\n",
       "      <td>2</td>\n",
       "      <td>168.0</td>\n",
       "      <td>-0.020093</td>\n",
       "      <td>-0.262906</td>\n",
       "      <td>-0.056557</td>\n",
       "      <td>0.194056</td>\n",
       "      <td>-0.115330</td>\n",
       "      <td>-0.099092</td>\n",
       "      <td>0.278635</td>\n",
       "      <td>-0.135564</td>\n",
       "      <td>-0.144507</td>\n",
       "      <td>0.282973</td>\n",
       "      <td>-0.190195</td>\n",
       "      <td>0.049953</td>\n",
       "      <td>0.125888</td>\n",
       "      <td>-0.374620</td>\n",
       "      <td>-0.016451</td>\n",
       "      <td>-0.065058</td>\n",
       "      <td>-0.025949</td>\n",
       "      <td>0.173900</td>\n",
       "      <td>0.355954</td>\n",
       "      <td>-0.235681</td>\n",
       "      <td>0.126304</td>\n",
       "      <td>-0.126924</td>\n",
       "      <td>0.041683</td>\n",
       "      <td>0.106642</td>\n",
       "      <td>-0.003075</td>\n",
       "      <td>0.228822</td>\n",
       "      <td>-0.081131</td>\n",
       "      <td>0.172357</td>\n",
       "      <td>0.190737</td>\n",
       "      <td>-0.294608</td>\n",
       "      <td>-1.0</td>\n",
       "      <td>0.147684</td>\n",
       "      <td>0.020161</td>\n",
       "      <td>0.026797</td>\n",
       "      <td>2</td>\n",
       "      <td>2240.0</td>\n",
       "      <td>121</td>\n",
       "      <td>124</td>\n",
       "      <td>6.532100</td>\n",
       "      <td>28</td>\n",
       "      <td>0</td>\n",
       "      <td>5.060721</td>\n",
       "      <td>False</td>\n",
       "      <td>False</td>\n",
       "    </tr>\n",
       "    <tr>\n",
       "      <th>1</th>\n",
       "      <td>795668</td>\n",
       "      <td>5219796</td>\n",
       "      <td>0.0</td>\n",
       "      <td>男</td>\n",
       "      <td>13</td>\n",
       "      <td>3.0</td>\n",
       "      <td>财政学（含税收学）</td>\n",
       "      <td>36</td>\n",
       "      <td>会计</td>\n",
       "      <td>医疗器械行业</td>\n",
       "      <td>宝安区</td>\n",
       "      <td>本人诚恳、踏实、忠于信用、责任心强,工作勤奋认真、有较强的沟通、分析能力，并具有与同事良好协作的能力</td>\n",
       "      <td>会计</td>\n",
       "      <td>深圳市</td>\n",
       "      <td>制造业</td>\n",
       "      <td>7.0</td>\n",
       "      <td>2.0</td>\n",
       "      <td>2.0</td>\n",
       "      <td>158.0</td>\n",
       "      <td>316.0</td>\n",
       "      <td>NaN</td>\n",
       "      <td>NaN</td>\n",
       "      <td>NaN</td>\n",
       "      <td>3.0</td>\n",
       "      <td>深圳市</td>\n",
       "      <td>3</td>\n",
       "      <td>21.0</td>\n",
       "      <td>-0.217036</td>\n",
       "      <td>-0.074155</td>\n",
       "      <td>-0.090927</td>\n",
       "      <td>-0.140628</td>\n",
       "      <td>0.054602</td>\n",
       "      <td>-0.104413</td>\n",
       "      <td>0.045719</td>\n",
       "      <td>0.267473</td>\n",
       "      <td>0.150557</td>\n",
       "      <td>-0.245592</td>\n",
       "      <td>-0.066818</td>\n",
       "      <td>0.031661</td>\n",
       "      <td>0.088511</td>\n",
       "      <td>0.080997</td>\n",
       "      <td>-0.120754</td>\n",
       "      <td>-0.147120</td>\n",
       "      <td>-0.119424</td>\n",
       "      <td>0.017087</td>\n",
       "      <td>-0.072285</td>\n",
       "      <td>0.087759</td>\n",
       "      <td>-0.076689</td>\n",
       "      <td>0.234719</td>\n",
       "      <td>0.335830</td>\n",
       "      <td>0.390114</td>\n",
       "      <td>0.238854</td>\n",
       "      <td>-0.333758</td>\n",
       "      <td>-0.151096</td>\n",
       "      <td>0.111547</td>\n",
       "      <td>-0.024619</td>\n",
       "      <td>0.367446</td>\n",
       "      <td>-1.0</td>\n",
       "      <td>0.147684</td>\n",
       "      <td>0.032258</td>\n",
       "      <td>-1.000000</td>\n",
       "      <td>8</td>\n",
       "      <td>7194.0</td>\n",
       "      <td>11</td>\n",
       "      <td>15</td>\n",
       "      <td>17.388430</td>\n",
       "      <td>43</td>\n",
       "      <td>0</td>\n",
       "      <td>8.374935</td>\n",
       "      <td>True</td>\n",
       "      <td>False</td>\n",
       "    </tr>\n",
       "    <tr>\n",
       "      <th>2</th>\n",
       "      <td>773645</td>\n",
       "      <td>6208645</td>\n",
       "      <td>0.0</td>\n",
       "      <td>男</td>\n",
       "      <td>0</td>\n",
       "      <td>1.0</td>\n",
       "      <td>计算机应用技术</td>\n",
       "      <td>28</td>\n",
       "      <td>NaN</td>\n",
       "      <td>NaN</td>\n",
       "      <td>南山区</td>\n",
       "      <td>NaN</td>\n",
       "      <td>汽车修理</td>\n",
       "      <td>深圳市</td>\n",
       "      <td>信息行业（IT/通讯/互联网）</td>\n",
       "      <td>7.0</td>\n",
       "      <td>1.0</td>\n",
       "      <td>1.0</td>\n",
       "      <td>101.0</td>\n",
       "      <td>101.0</td>\n",
       "      <td>2.0</td>\n",
       "      <td>2.0</td>\n",
       "      <td>汽车工程</td>\n",
       "      <td>2.0</td>\n",
       "      <td>深圳市</td>\n",
       "      <td>3</td>\n",
       "      <td>46.0</td>\n",
       "      <td>-0.309360</td>\n",
       "      <td>-0.023115</td>\n",
       "      <td>0.012245</td>\n",
       "      <td>-0.090550</td>\n",
       "      <td>0.070090</td>\n",
       "      <td>0.308661</td>\n",
       "      <td>-0.226925</td>\n",
       "      <td>-0.207737</td>\n",
       "      <td>0.019689</td>\n",
       "      <td>-0.060863</td>\n",
       "      <td>0.057828</td>\n",
       "      <td>0.148603</td>\n",
       "      <td>0.235077</td>\n",
       "      <td>-0.086942</td>\n",
       "      <td>-0.061630</td>\n",
       "      <td>0.221807</td>\n",
       "      <td>-0.025869</td>\n",
       "      <td>0.147118</td>\n",
       "      <td>-0.205001</td>\n",
       "      <td>0.042192</td>\n",
       "      <td>-0.150689</td>\n",
       "      <td>0.004426</td>\n",
       "      <td>0.212918</td>\n",
       "      <td>0.221350</td>\n",
       "      <td>-0.074678</td>\n",
       "      <td>0.110514</td>\n",
       "      <td>0.331468</td>\n",
       "      <td>0.313623</td>\n",
       "      <td>0.265447</td>\n",
       "      <td>-0.274928</td>\n",
       "      <td>-1.0</td>\n",
       "      <td>0.147684</td>\n",
       "      <td>0.000000</td>\n",
       "      <td>0.261549</td>\n",
       "      <td>1</td>\n",
       "      <td>83.0</td>\n",
       "      <td>26</td>\n",
       "      <td>44</td>\n",
       "      <td>9.927461</td>\n",
       "      <td>33</td>\n",
       "      <td>0</td>\n",
       "      <td>8.408510</td>\n",
       "      <td>True</td>\n",
       "      <td>True</td>\n",
       "    </tr>\n",
       "    <tr>\n",
       "      <th>3</th>\n",
       "      <td>795526</td>\n",
       "      <td>6196384</td>\n",
       "      <td>0.0</td>\n",
       "      <td>女</td>\n",
       "      <td>6</td>\n",
       "      <td>3.0</td>\n",
       "      <td>文秘</td>\n",
       "      <td>29</td>\n",
       "      <td>客户服务</td>\n",
       "      <td>NaN</td>\n",
       "      <td>罗湖区</td>\n",
       "      <td>自信，有责任感，有耐心，有干劲。善于总结和思考问题。对生活和工作有明确的目标和计划，并能够为之不断努力奋斗。成功就是把未来变成梦想，把梦想变为现实，一直在这样做。百度李彦宏说，生活可以走直线，深信不疑!不是最聪明的，但会用心去做的工作！有足够的信心帮你解决问题！</td>\n",
       "      <td>国际贸易/涉外业务</td>\n",
       "      <td>深圳市</td>\n",
       "      <td>商业零售行业</td>\n",
       "      <td>14.0</td>\n",
       "      <td>1.0</td>\n",
       "      <td>1.0</td>\n",
       "      <td>110.0</td>\n",
       "      <td>110.0</td>\n",
       "      <td>NaN</td>\n",
       "      <td>NaN</td>\n",
       "      <td>NaN</td>\n",
       "      <td>1.0</td>\n",
       "      <td>福田区</td>\n",
       "      <td>1</td>\n",
       "      <td>81.0</td>\n",
       "      <td>-0.290974</td>\n",
       "      <td>-0.250667</td>\n",
       "      <td>-0.099687</td>\n",
       "      <td>0.224765</td>\n",
       "      <td>-0.070474</td>\n",
       "      <td>-0.102311</td>\n",
       "      <td>0.304896</td>\n",
       "      <td>0.286902</td>\n",
       "      <td>-0.111283</td>\n",
       "      <td>0.355839</td>\n",
       "      <td>-0.180672</td>\n",
       "      <td>-0.188631</td>\n",
       "      <td>0.115470</td>\n",
       "      <td>0.164261</td>\n",
       "      <td>-0.344643</td>\n",
       "      <td>0.212370</td>\n",
       "      <td>-0.020526</td>\n",
       "      <td>0.076332</td>\n",
       "      <td>-0.000754</td>\n",
       "      <td>-0.272077</td>\n",
       "      <td>-0.031857</td>\n",
       "      <td>-0.192921</td>\n",
       "      <td>0.051502</td>\n",
       "      <td>0.090361</td>\n",
       "      <td>-0.064331</td>\n",
       "      <td>0.032852</td>\n",
       "      <td>0.125393</td>\n",
       "      <td>0.026824</td>\n",
       "      <td>-0.196383</td>\n",
       "      <td>0.018900</td>\n",
       "      <td>-1.0</td>\n",
       "      <td>0.147684</td>\n",
       "      <td>0.005208</td>\n",
       "      <td>-1.000000</td>\n",
       "      <td>5</td>\n",
       "      <td>6018.0</td>\n",
       "      <td>88</td>\n",
       "      <td>97</td>\n",
       "      <td>6.677188</td>\n",
       "      <td>22</td>\n",
       "      <td>0</td>\n",
       "      <td>4.694759</td>\n",
       "      <td>False</td>\n",
       "      <td>False</td>\n",
       "    </tr>\n",
       "    <tr>\n",
       "      <th>4</th>\n",
       "      <td>817993</td>\n",
       "      <td>5868175</td>\n",
       "      <td>0.0</td>\n",
       "      <td>男</td>\n",
       "      <td>13</td>\n",
       "      <td>1.0</td>\n",
       "      <td>电子信息科学与技术</td>\n",
       "      <td>34</td>\n",
       "      <td>售前/售后服务</td>\n",
       "      <td>NaN</td>\n",
       "      <td>南山区</td>\n",
       "      <td>为人随和正直，积极乐观，有思想，有梦想。善于人际交往，有很强的团队合作意识。</td>\n",
       "      <td>售前/售后服务</td>\n",
       "      <td>深圳市</td>\n",
       "      <td>商业零售行业</td>\n",
       "      <td>7.0</td>\n",
       "      <td>1.0</td>\n",
       "      <td>1.0</td>\n",
       "      <td>89.0</td>\n",
       "      <td>89.0</td>\n",
       "      <td>NaN</td>\n",
       "      <td>NaN</td>\n",
       "      <td>NaN</td>\n",
       "      <td>3.0</td>\n",
       "      <td>福田区</td>\n",
       "      <td>0</td>\n",
       "      <td>110.0</td>\n",
       "      <td>-0.256669</td>\n",
       "      <td>-0.044442</td>\n",
       "      <td>0.093839</td>\n",
       "      <td>-0.471277</td>\n",
       "      <td>0.131238</td>\n",
       "      <td>-0.013545</td>\n",
       "      <td>-0.368669</td>\n",
       "      <td>-0.019363</td>\n",
       "      <td>-0.035097</td>\n",
       "      <td>-0.007270</td>\n",
       "      <td>-0.126510</td>\n",
       "      <td>-0.225958</td>\n",
       "      <td>0.039176</td>\n",
       "      <td>0.226642</td>\n",
       "      <td>-0.029324</td>\n",
       "      <td>-0.133674</td>\n",
       "      <td>0.217693</td>\n",
       "      <td>0.158621</td>\n",
       "      <td>-0.262200</td>\n",
       "      <td>-0.137221</td>\n",
       "      <td>0.111625</td>\n",
       "      <td>-0.000705</td>\n",
       "      <td>0.300331</td>\n",
       "      <td>-0.075424</td>\n",
       "      <td>0.078619</td>\n",
       "      <td>0.007605</td>\n",
       "      <td>0.356642</td>\n",
       "      <td>0.069532</td>\n",
       "      <td>-0.027976</td>\n",
       "      <td>-0.006046</td>\n",
       "      <td>-1.0</td>\n",
       "      <td>0.147684</td>\n",
       "      <td>0.250000</td>\n",
       "      <td>-1.000000</td>\n",
       "      <td>1</td>\n",
       "      <td>1657.0</td>\n",
       "      <td>17</td>\n",
       "      <td>26</td>\n",
       "      <td>10.860465</td>\n",
       "      <td>26</td>\n",
       "      <td>0</td>\n",
       "      <td>5.792365</td>\n",
       "      <td>False</td>\n",
       "      <td>True</td>\n",
       "    </tr>\n",
       "  </tbody>\n",
       "</table>\n",
       "</div>"
      ],
      "text/plain": [
       "   RECRUIT_ID  PERSON_ID  LABEL GENDER  WORK_YEARS  HIGHEST_EDU PERSON_MAJOR  \\\n",
       "0      772899    5413605    0.0      女           0          3.0           文秘   \n",
       "1      795668    5219796    0.0      男          13          3.0    财政学（含税收学）   \n",
       "2      773645    6208645    0.0      男           0          1.0      计算机应用技术   \n",
       "3      795526    6196384    0.0      女           6          3.0           文秘   \n",
       "4      817993    5868175    0.0      男          13          1.0    电子信息科学与技术   \n",
       "\n",
       "   AGE LAST_POSITION LAST_INDUSTRY CURR_LOC  \\\n",
       "0   29        人力资源管理          通讯行业      广东省   \n",
       "1   36           会计         医疗器械行业      宝安区   \n",
       "2   28           NaN           NaN      南山区   \n",
       "3   29          客户服务           NaN      罗湖区   \n",
       "4   34       售前/售后服务           NaN      南山区   \n",
       "\n",
       "                                                                                                                          SELF_COMMENT  \\\n",
       "0                                                                                              热情大方，责任心强，工作认真负责，有较强的适应能力和学习能力，有扎实的专业功底   \n",
       "1                                                                                   本人诚恳、踏实、忠于信用、责任心强,工作勤奋认真、有较强的沟通、分析能力，并具有与同事良好协作的能力   \n",
       "2                                                                                                                                  NaN   \n",
       "3  自信，有责任感，有耐心，有干劲。善于总结和思考问题。对生活和工作有明确的目标和计划，并能够为之不断努力奋斗。成功就是把未来变成梦想，把梦想变为现实，一直在这样做。百度李彦宏说，生活可以走直线，深信不疑!不是最聪明的，但会用心去做的工作！有足够的信心帮你解决问题！   \n",
       "4                                                                                               为人随和正直，积极乐观，有思想，有梦想。善于人际交往，有很强的团队合作意识。   \n",
       "\n",
       "    POSITION CV_LOCATION         INDUSTRY  AVAILABLE_IN_DAYS  JOB_HIST_CNT  \\\n",
       "0       行政管理         深圳市              NaN               30.0           2.0   \n",
       "1        会计          深圳市              制造业                7.0           2.0   \n",
       "2       汽车修理         深圳市  信息行业（IT/通讯/互联网）                7.0           1.0   \n",
       "3  国际贸易/涉外业务         深圳市           商业零售行业               14.0           1.0   \n",
       "4    售前/售后服务         深圳市           商业零售行业                7.0           1.0   \n",
       "\n",
       "   POSITION_COUNT  ACHIEVEMENT_LEN_MEAN  ACHIEVEMENT_LEN_SUM  \\\n",
       "0             2.0                  26.5                 53.0   \n",
       "1             2.0                 158.0                316.0   \n",
       "2             1.0                 101.0                101.0   \n",
       "3             1.0                 110.0                110.0   \n",
       "4             1.0                  89.0                 89.0   \n",
       "\n",
       "   PERSON_TYPE_CODE  PERSON_TYPE RECRUIT_MAJOR  LOWER_EDU RECRUIT_LOCATION  \\\n",
       "0               1.0          4.0          旅游管理        1.0              福田区   \n",
       "1               NaN          NaN           NaN        3.0              深圳市   \n",
       "2               2.0          2.0          汽车工程        2.0              深圳市   \n",
       "3               NaN          NaN           NaN        1.0              福田区   \n",
       "4               NaN          NaN           NaN        3.0              福田区   \n",
       "\n",
       "   WORK_YEARS_RANGE  DETAIL_LEN  JOB_TITLE_ernie_emb_0  JOB_TITLE_ernie_emb_1  \\\n",
       "0                 2       168.0              -0.020093              -0.262906   \n",
       "1                 3        21.0              -0.217036              -0.074155   \n",
       "2                 3        46.0              -0.309360              -0.023115   \n",
       "3                 1        81.0              -0.290974              -0.250667   \n",
       "4                 0       110.0              -0.256669              -0.044442   \n",
       "\n",
       "   JOB_TITLE_ernie_emb_2  JOB_TITLE_ernie_emb_3  JOB_TITLE_ernie_emb_4  \\\n",
       "0              -0.056557               0.194056              -0.115330   \n",
       "1              -0.090927              -0.140628               0.054602   \n",
       "2               0.012245              -0.090550               0.070090   \n",
       "3              -0.099687               0.224765              -0.070474   \n",
       "4               0.093839              -0.471277               0.131238   \n",
       "\n",
       "   JOB_TITLE_ernie_emb_5  JOB_TITLE_ernie_emb_6  JOB_TITLE_ernie_emb_7  \\\n",
       "0              -0.099092               0.278635              -0.135564   \n",
       "1              -0.104413               0.045719               0.267473   \n",
       "2               0.308661              -0.226925              -0.207737   \n",
       "3              -0.102311               0.304896               0.286902   \n",
       "4              -0.013545              -0.368669              -0.019363   \n",
       "\n",
       "   JOB_TITLE_ernie_emb_8  JOB_TITLE_ernie_emb_9  JOB_TITLE_ernie_emb_10  \\\n",
       "0              -0.144507               0.282973               -0.190195   \n",
       "1               0.150557              -0.245592               -0.066818   \n",
       "2               0.019689              -0.060863                0.057828   \n",
       "3              -0.111283               0.355839               -0.180672   \n",
       "4              -0.035097              -0.007270               -0.126510   \n",
       "\n",
       "   JOB_TITLE_ernie_emb_11  JOB_TITLE_ernie_emb_12  JOB_TITLE_ernie_emb_13  \\\n",
       "0                0.049953                0.125888               -0.374620   \n",
       "1                0.031661                0.088511                0.080997   \n",
       "2                0.148603                0.235077               -0.086942   \n",
       "3               -0.188631                0.115470                0.164261   \n",
       "4               -0.225958                0.039176                0.226642   \n",
       "\n",
       "   JOB_TITLE_ernie_emb_14  JOB_TITLE_ernie_emb_15  JOB_TITLE_ernie_emb_16  \\\n",
       "0               -0.016451               -0.065058               -0.025949   \n",
       "1               -0.120754               -0.147120               -0.119424   \n",
       "2               -0.061630                0.221807               -0.025869   \n",
       "3               -0.344643                0.212370               -0.020526   \n",
       "4               -0.029324               -0.133674                0.217693   \n",
       "\n",
       "   JOB_TITLE_ernie_emb_17  JOB_TITLE_ernie_emb_18  JOB_TITLE_ernie_emb_19  \\\n",
       "0                0.173900                0.355954               -0.235681   \n",
       "1                0.017087               -0.072285                0.087759   \n",
       "2                0.147118               -0.205001                0.042192   \n",
       "3                0.076332               -0.000754               -0.272077   \n",
       "4                0.158621               -0.262200               -0.137221   \n",
       "\n",
       "   JOB_TITLE_ernie_emb_20  JOB_TITLE_ernie_emb_21  JOB_TITLE_ernie_emb_22  \\\n",
       "0                0.126304               -0.126924                0.041683   \n",
       "1               -0.076689                0.234719                0.335830   \n",
       "2               -0.150689                0.004426                0.212918   \n",
       "3               -0.031857               -0.192921                0.051502   \n",
       "4                0.111625               -0.000705                0.300331   \n",
       "\n",
       "   JOB_TITLE_ernie_emb_23  JOB_TITLE_ernie_emb_24  JOB_TITLE_ernie_emb_25  \\\n",
       "0                0.106642               -0.003075                0.228822   \n",
       "1                0.390114                0.238854               -0.333758   \n",
       "2                0.221350               -0.074678                0.110514   \n",
       "3                0.090361               -0.064331                0.032852   \n",
       "4               -0.075424                0.078619                0.007605   \n",
       "\n",
       "   JOB_TITLE_ernie_emb_26  JOB_TITLE_ernie_emb_27  JOB_TITLE_ernie_emb_28  \\\n",
       "0               -0.081131                0.172357                0.190737   \n",
       "1               -0.151096                0.111547               -0.024619   \n",
       "2                0.331468                0.313623                0.265447   \n",
       "3                0.125393                0.026824               -0.196383   \n",
       "4                0.356642                0.069532               -0.027976   \n",
       "\n",
       "   JOB_TITLE_ernie_emb_29  recruit_person_POSITION_score  \\\n",
       "0               -0.294608                           -1.0   \n",
       "1                0.367446                           -1.0   \n",
       "2               -0.274928                           -1.0   \n",
       "3                0.018900                           -1.0   \n",
       "4               -0.006046                           -1.0   \n",
       "\n",
       "   CV_LOCATION_LABEL_mean  RECRUIT_ID_LABEL_mean  recruit_person_MAJOR_score  \\\n",
       "0                0.147684               0.020161                    0.026797   \n",
       "1                0.147684               0.032258                   -1.000000   \n",
       "2                0.147684               0.000000                    0.261549   \n",
       "3                0.147684               0.005208                   -1.000000   \n",
       "4                0.147684               0.250000                   -1.000000   \n",
       "\n",
       "   PERSON_ID_cnt  POSITION_cnt  RECRUIT_ID_POSITION_nunique  \\\n",
       "0              2        2240.0                          121   \n",
       "1              8        7194.0                           11   \n",
       "2              1          83.0                           26   \n",
       "3              5        6018.0                           88   \n",
       "4              1        1657.0                           17   \n",
       "\n",
       "   RECRUIT_ID_PERSON_MAJOR_nunique  RECRUIT_ID_WORK_YEARS_mean  \\\n",
       "0                              124                    6.532100   \n",
       "1                               15                   17.388430   \n",
       "2                               44                    9.927461   \n",
       "3                               97                    6.677188   \n",
       "4                               26                   10.860465   \n",
       "\n",
       "   RECRUIT_ID_WORK_YEARS_max  RECRUIT_ID_WORK_YEARS_min  \\\n",
       "0                         28                          0   \n",
       "1                         43                          0   \n",
       "2                         33                          0   \n",
       "3                         22                          0   \n",
       "4                         26                          0   \n",
       "\n",
       "   RECRUIT_ID_WORK_YEARS_std  CV_RECRUIT_LOCATION_equal  \\\n",
       "0                   5.060721                      False   \n",
       "1                   8.374935                       True   \n",
       "2                   8.408510                       True   \n",
       "3                   4.694759                      False   \n",
       "4                   5.792365                      False   \n",
       "\n",
       "   LOWER_EDU_HIGHEST_EDU_higher  \n",
       "0                         False  \n",
       "1                         False  \n",
       "2                          True  \n",
       "3                         False  \n",
       "4                          True  "
      ]
     },
     "execution_count": 56,
     "metadata": {},
     "output_type": "execute_result"
    }
   ],
   "source": [
    "df_feature.head()"
   ]
  },
  {
   "cell_type": "markdown",
   "metadata": {},
   "source": [
    "# 建模"
   ]
  },
  {
   "cell_type": "code",
   "execution_count": 57,
   "metadata": {
    "ExecuteTime": {
     "end_time": "2021-05-16T12:23:46.640320Z",
     "start_time": "2021-05-16T12:23:46.029366Z"
    },
    "scrolled": true
   },
   "outputs": [
    {
     "name": "stdout",
     "output_type": "stream",
     "text": [
      "GENDER\n",
      "PERSON_MAJOR\n",
      "LAST_POSITION\n",
      "LAST_INDUSTRY\n",
      "CURR_LOC\n",
      "SELF_COMMENT\n",
      "POSITION\n",
      "CV_LOCATION\n",
      "INDUSTRY\n",
      "RECRUIT_MAJOR\n",
      "RECRUIT_LOCATION\n"
     ]
    }
   ],
   "source": [
    "for f in df_feature.select_dtypes('object'):\n",
    "    le = LabelEncoder()\n",
    "    print(f)\n",
    "    df_feature[f] = le.fit_transform(df_feature[f].astype('str'))"
   ]
  },
  {
   "cell_type": "code",
   "execution_count": 58,
   "metadata": {
    "ExecuteTime": {
     "end_time": "2021-05-16T12:23:46.662176Z",
     "start_time": "2021-05-16T12:23:46.641447Z"
    }
   },
   "outputs": [],
   "source": [
    "df_train = df_feature[df_feature['LABEL'].notnull()]\n",
    "df_test = df_feature[df_feature['LABEL'].isnull()]"
   ]
  },
  {
   "cell_type": "code",
   "execution_count": 59,
   "metadata": {
    "ExecuteTime": {
     "end_time": "2021-05-16T12:23:46.730940Z",
     "start_time": "2021-05-16T12:23:46.663559Z"
    }
   },
   "outputs": [
    {
     "data": {
      "text/plain": [
       "((35291, 71), (70774, 71))"
      ]
     },
     "execution_count": 59,
     "metadata": {},
     "output_type": "execute_result"
    }
   ],
   "source": [
    "df_train.shape, df_test.shape"
   ]
  },
  {
   "cell_type": "code",
   "execution_count": 60,
   "metadata": {
    "ExecuteTime": {
     "end_time": "2021-05-16T12:23:53.260019Z",
     "start_time": "2021-05-16T12:23:46.733057Z"
    },
    "code_folding": [
     8,
     20
    ],
    "scrolled": true
   },
   "outputs": [
    {
     "name": "stdout",
     "output_type": "stream",
     "text": [
      "\n",
      "Fold_1 Training ================================\n",
      "\n",
      "[LightGBM] [Warning] feature_fraction is set=0.8, colsample_bytree=1.0 will be ignored. Current value: feature_fraction=0.8\n",
      "Training until validation scores don't improve for 200 rounds\n",
      "[100]\tvalid's auc: 0.982601\n",
      "[200]\tvalid's auc: 0.982202\n",
      "Early stopping, best iteration is:\n",
      "[82]\tvalid's auc: 0.982891\n",
      "\n",
      "Fold_2 Training ================================\n",
      "\n",
      "[LightGBM] [Warning] feature_fraction is set=0.8, colsample_bytree=1.0 will be ignored. Current value: feature_fraction=0.8\n",
      "Training until validation scores don't improve for 200 rounds\n",
      "[100]\tvalid's auc: 0.981722\n",
      "[200]\tvalid's auc: 0.982555\n",
      "[300]\tvalid's auc: 0.98248\n",
      "[400]\tvalid's auc: 0.982745\n",
      "[500]\tvalid's auc: 0.982453\n",
      "Early stopping, best iteration is:\n",
      "[376]\tvalid's auc: 0.982775\n",
      "\n",
      "Fold_3 Training ================================\n",
      "\n",
      "[LightGBM] [Warning] feature_fraction is set=0.8, colsample_bytree=1.0 will be ignored. Current value: feature_fraction=0.8\n",
      "Training until validation scores don't improve for 200 rounds\n",
      "[100]\tvalid's auc: 0.984484\n",
      "[200]\tvalid's auc: 0.984372\n",
      "Early stopping, best iteration is:\n",
      "[83]\tvalid's auc: 0.984752\n",
      "\n",
      "Fold_4 Training ================================\n",
      "\n",
      "[LightGBM] [Warning] feature_fraction is set=0.8, colsample_bytree=1.0 will be ignored. Current value: feature_fraction=0.8\n",
      "Training until validation scores don't improve for 200 rounds\n",
      "[100]\tvalid's auc: 0.981773\n",
      "[200]\tvalid's auc: 0.983095\n",
      "[300]\tvalid's auc: 0.982962\n",
      "[400]\tvalid's auc: 0.982682\n",
      "Early stopping, best iteration is:\n",
      "[250]\tvalid's auc: 0.983376\n",
      "\n",
      "Fold_5 Training ================================\n",
      "\n",
      "[LightGBM] [Warning] feature_fraction is set=0.8, colsample_bytree=1.0 will be ignored. Current value: feature_fraction=0.8\n",
      "Training until validation scores don't improve for 200 rounds\n",
      "[100]\tvalid's auc: 0.977055\n",
      "[200]\tvalid's auc: 0.978047\n",
      "[300]\tvalid's auc: 0.978575\n",
      "[400]\tvalid's auc: 0.978591\n",
      "[500]\tvalid's auc: 0.978648\n",
      "[600]\tvalid's auc: 0.978262\n",
      "Early stopping, best iteration is:\n",
      "[481]\tvalid's auc: 0.978844\n",
      "\n",
      "Fold_6 Training ================================\n",
      "\n",
      "[LightGBM] [Warning] feature_fraction is set=0.8, colsample_bytree=1.0 will be ignored. Current value: feature_fraction=0.8\n",
      "Training until validation scores don't improve for 200 rounds\n",
      "[100]\tvalid's auc: 0.985218\n",
      "[200]\tvalid's auc: 0.985237\n",
      "[300]\tvalid's auc: 0.985429\n",
      "[400]\tvalid's auc: 0.98552\n",
      "Early stopping, best iteration is:\n",
      "[257]\tvalid's auc: 0.98571\n",
      "\n",
      "Fold_7 Training ================================\n",
      "\n",
      "[LightGBM] [Warning] feature_fraction is set=0.8, colsample_bytree=1.0 will be ignored. Current value: feature_fraction=0.8\n",
      "Training until validation scores don't improve for 200 rounds\n",
      "[100]\tvalid's auc: 0.983824\n",
      "[200]\tvalid's auc: 0.983966\n",
      "[300]\tvalid's auc: 0.984125\n",
      "[400]\tvalid's auc: 0.983995\n",
      "[500]\tvalid's auc: 0.983538\n",
      "Early stopping, best iteration is:\n",
      "[303]\tvalid's auc: 0.984185\n",
      "\n",
      "Fold_8 Training ================================\n",
      "\n",
      "[LightGBM] [Warning] feature_fraction is set=0.8, colsample_bytree=1.0 will be ignored. Current value: feature_fraction=0.8\n",
      "Training until validation scores don't improve for 200 rounds\n",
      "[100]\tvalid's auc: 0.975482\n",
      "[200]\tvalid's auc: 0.975291\n",
      "[300]\tvalid's auc: 0.974892\n",
      "Early stopping, best iteration is:\n",
      "[137]\tvalid's auc: 0.975541\n",
      "\n",
      "Fold_9 Training ================================\n",
      "\n",
      "[LightGBM] [Warning] feature_fraction is set=0.8, colsample_bytree=1.0 will be ignored. Current value: feature_fraction=0.8\n",
      "Training until validation scores don't improve for 200 rounds\n",
      "[100]\tvalid's auc: 0.98184\n",
      "[200]\tvalid's auc: 0.981469\n",
      "Early stopping, best iteration is:\n",
      "[81]\tvalid's auc: 0.981946\n",
      "\n",
      "Fold_10 Training ================================\n",
      "\n",
      "[LightGBM] [Warning] feature_fraction is set=0.8, colsample_bytree=1.0 will be ignored. Current value: feature_fraction=0.8\n",
      "Training until validation scores don't improve for 200 rounds\n",
      "[100]\tvalid's auc: 0.978119\n",
      "[200]\tvalid's auc: 0.977514\n",
      "[300]\tvalid's auc: 0.977456\n",
      "Early stopping, best iteration is:\n",
      "[104]\tvalid's auc: 0.978242\n"
     ]
    }
   ],
   "source": [
    "ycol = 'LABEL'\n",
    "feature_names = list(filter(lambda x: x not in [ycol], df_train.columns))\n",
    "\n",
    "oof = []\n",
    "lgbprediction = df_test[['RECRUIT_ID', 'PERSON_ID']]\n",
    "lgbprediction['pred'] = 0\n",
    "df_importance_list = []\n",
    "\n",
    "model = lgb.LGBMClassifier(num_leaves=64,\n",
    "                           max_depth=10,\n",
    "                           learning_rate=0.08,\n",
    "                           n_estimators=1000000,\n",
    "                           subsample=0.8,\n",
    "                           feature_fraction=0.8,\n",
    "                           reg_alpha=0.5,\n",
    "                           reg_lambda=0.5,\n",
    "                           random_state=2021,\n",
    "                           metric='auc')\n",
    "\n",
    "kfold = StratifiedKFold(n_splits=10, random_state=seed, shuffle=True)\n",
    "for fold_id, (trn_idx, val_idx) in enumerate(\n",
    "        kfold.split(df_train[feature_names], df_train[ycol])):\n",
    "    X_train = df_train.iloc[trn_idx][feature_names]\n",
    "    Y_train = df_train.iloc[trn_idx][ycol]\n",
    "\n",
    "    X_val = df_train.iloc[val_idx][feature_names]\n",
    "    Y_val = df_train.iloc[val_idx][ycol]\n",
    "\n",
    "    print('\\nFold_{} Training ================================\\n'.format(\n",
    "        fold_id + 1))\n",
    "\n",
    "    lgb_model = model.fit(X_train,\n",
    "                          Y_train,\n",
    "                          eval_names=['valid'],\n",
    "                          eval_set=[(X_val, Y_val)],\n",
    "                          verbose=100,\n",
    "                          eval_metric='auc',\n",
    "                          early_stopping_rounds=200)\n",
    "\n",
    "    pred_val = lgb_model.predict_proba(X_val)\n",
    "    df_oof = df_train.iloc[val_idx][['RECRUIT_ID', 'PERSON_ID', ycol]].copy()\n",
    "    df_oof['pred'] = pred_val[:, 1]\n",
    "    oof.append(df_oof)\n",
    "\n",
    "    pred_test = lgb_model.predict_proba(df_test[feature_names])\n",
    "    lgbprediction['pred'] += pred_test[:, 1]\n",
    "tmplgb = lgbprediction\n"
   ]
  },
  {
   "cell_type": "code",
   "execution_count": 61,
   "metadata": {},
   "outputs": [
    {
     "data": {
      "text/html": [
       "<div>\n",
       "<style scoped>\n",
       "    .dataframe tbody tr th:only-of-type {\n",
       "        vertical-align: middle;\n",
       "    }\n",
       "\n",
       "    .dataframe tbody tr th {\n",
       "        vertical-align: top;\n",
       "    }\n",
       "\n",
       "    .dataframe thead th {\n",
       "        text-align: right;\n",
       "    }\n",
       "</style>\n",
       "<table border=\"1\" class=\"dataframe\">\n",
       "  <thead>\n",
       "    <tr style=\"text-align: right;\">\n",
       "      <th></th>\n",
       "      <th>column</th>\n",
       "      <th>importance</th>\n",
       "    </tr>\n",
       "  </thead>\n",
       "  <tbody>\n",
       "    <tr>\n",
       "      <th>0</th>\n",
       "      <td>PERSON_ID</td>\n",
       "      <td>479</td>\n",
       "    </tr>\n",
       "    <tr>\n",
       "      <th>1</th>\n",
       "      <td>RECRUIT_ID_LABEL_mean</td>\n",
       "      <td>392</td>\n",
       "    </tr>\n",
       "    <tr>\n",
       "      <th>2</th>\n",
       "      <td>RECRUIT_ID</td>\n",
       "      <td>261</td>\n",
       "    </tr>\n",
       "    <tr>\n",
       "      <th>3</th>\n",
       "      <td>ACHIEVEMENT_LEN_MEAN</td>\n",
       "      <td>255</td>\n",
       "    </tr>\n",
       "    <tr>\n",
       "      <th>4</th>\n",
       "      <td>ACHIEVEMENT_LEN_SUM</td>\n",
       "      <td>223</td>\n",
       "    </tr>\n",
       "    <tr>\n",
       "      <th>5</th>\n",
       "      <td>PERSON_ID_cnt</td>\n",
       "      <td>215</td>\n",
       "    </tr>\n",
       "    <tr>\n",
       "      <th>6</th>\n",
       "      <td>POSITION_cnt</td>\n",
       "      <td>212</td>\n",
       "    </tr>\n",
       "    <tr>\n",
       "      <th>7</th>\n",
       "      <td>SELF_COMMENT</td>\n",
       "      <td>201</td>\n",
       "    </tr>\n",
       "    <tr>\n",
       "      <th>8</th>\n",
       "      <td>WORK_YEARS</td>\n",
       "      <td>194</td>\n",
       "    </tr>\n",
       "    <tr>\n",
       "      <th>9</th>\n",
       "      <td>POSITION</td>\n",
       "      <td>178</td>\n",
       "    </tr>\n",
       "    <tr>\n",
       "      <th>10</th>\n",
       "      <td>PERSON_MAJOR</td>\n",
       "      <td>166</td>\n",
       "    </tr>\n",
       "    <tr>\n",
       "      <th>11</th>\n",
       "      <td>LAST_POSITION</td>\n",
       "      <td>147</td>\n",
       "    </tr>\n",
       "    <tr>\n",
       "      <th>12</th>\n",
       "      <td>RECRUIT_ID_WORK_YEARS_mean</td>\n",
       "      <td>145</td>\n",
       "    </tr>\n",
       "    <tr>\n",
       "      <th>13</th>\n",
       "      <td>DETAIL_LEN</td>\n",
       "      <td>133</td>\n",
       "    </tr>\n",
       "    <tr>\n",
       "      <th>14</th>\n",
       "      <td>RECRUIT_ID_WORK_YEARS_std</td>\n",
       "      <td>132</td>\n",
       "    </tr>\n",
       "    <tr>\n",
       "      <th>15</th>\n",
       "      <td>RECRUIT_ID_POSITION_nunique</td>\n",
       "      <td>123</td>\n",
       "    </tr>\n",
       "    <tr>\n",
       "      <th>16</th>\n",
       "      <td>AGE</td>\n",
       "      <td>122</td>\n",
       "    </tr>\n",
       "    <tr>\n",
       "      <th>17</th>\n",
       "      <td>GENDER</td>\n",
       "      <td>119</td>\n",
       "    </tr>\n",
       "    <tr>\n",
       "      <th>18</th>\n",
       "      <td>INDUSTRY</td>\n",
       "      <td>116</td>\n",
       "    </tr>\n",
       "    <tr>\n",
       "      <th>19</th>\n",
       "      <td>LAST_INDUSTRY</td>\n",
       "      <td>96</td>\n",
       "    </tr>\n",
       "    <tr>\n",
       "      <th>20</th>\n",
       "      <td>JOB_TITLE_ernie_emb_14</td>\n",
       "      <td>93</td>\n",
       "    </tr>\n",
       "    <tr>\n",
       "      <th>21</th>\n",
       "      <td>JOB_TITLE_ernie_emb_11</td>\n",
       "      <td>91</td>\n",
       "    </tr>\n",
       "    <tr>\n",
       "      <th>22</th>\n",
       "      <td>JOB_TITLE_ernie_emb_19</td>\n",
       "      <td>86</td>\n",
       "    </tr>\n",
       "    <tr>\n",
       "      <th>23</th>\n",
       "      <td>RECRUIT_ID_PERSON_MAJOR_nunique</td>\n",
       "      <td>84</td>\n",
       "    </tr>\n",
       "    <tr>\n",
       "      <th>24</th>\n",
       "      <td>JOB_TITLE_ernie_emb_27</td>\n",
       "      <td>84</td>\n",
       "    </tr>\n",
       "    <tr>\n",
       "      <th>25</th>\n",
       "      <td>JOB_TITLE_ernie_emb_25</td>\n",
       "      <td>81</td>\n",
       "    </tr>\n",
       "    <tr>\n",
       "      <th>26</th>\n",
       "      <td>JOB_TITLE_ernie_emb_10</td>\n",
       "      <td>81</td>\n",
       "    </tr>\n",
       "    <tr>\n",
       "      <th>27</th>\n",
       "      <td>CV_LOCATION_LABEL_mean</td>\n",
       "      <td>80</td>\n",
       "    </tr>\n",
       "    <tr>\n",
       "      <th>28</th>\n",
       "      <td>JOB_TITLE_ernie_emb_0</td>\n",
       "      <td>77</td>\n",
       "    </tr>\n",
       "    <tr>\n",
       "      <th>29</th>\n",
       "      <td>JOB_TITLE_ernie_emb_29</td>\n",
       "      <td>76</td>\n",
       "    </tr>\n",
       "    <tr>\n",
       "      <th>30</th>\n",
       "      <td>JOB_TITLE_ernie_emb_2</td>\n",
       "      <td>76</td>\n",
       "    </tr>\n",
       "    <tr>\n",
       "      <th>31</th>\n",
       "      <td>JOB_TITLE_ernie_emb_17</td>\n",
       "      <td>72</td>\n",
       "    </tr>\n",
       "    <tr>\n",
       "      <th>32</th>\n",
       "      <td>JOB_TITLE_ernie_emb_13</td>\n",
       "      <td>71</td>\n",
       "    </tr>\n",
       "    <tr>\n",
       "      <th>33</th>\n",
       "      <td>RECRUIT_ID_WORK_YEARS_max</td>\n",
       "      <td>70</td>\n",
       "    </tr>\n",
       "    <tr>\n",
       "      <th>34</th>\n",
       "      <td>JOB_TITLE_ernie_emb_23</td>\n",
       "      <td>68</td>\n",
       "    </tr>\n",
       "    <tr>\n",
       "      <th>35</th>\n",
       "      <td>JOB_TITLE_ernie_emb_1</td>\n",
       "      <td>66</td>\n",
       "    </tr>\n",
       "    <tr>\n",
       "      <th>36</th>\n",
       "      <td>JOB_TITLE_ernie_emb_21</td>\n",
       "      <td>64</td>\n",
       "    </tr>\n",
       "    <tr>\n",
       "      <th>37</th>\n",
       "      <td>CURR_LOC</td>\n",
       "      <td>63</td>\n",
       "    </tr>\n",
       "    <tr>\n",
       "      <th>38</th>\n",
       "      <td>JOB_TITLE_ernie_emb_5</td>\n",
       "      <td>62</td>\n",
       "    </tr>\n",
       "    <tr>\n",
       "      <th>39</th>\n",
       "      <td>JOB_TITLE_ernie_emb_15</td>\n",
       "      <td>62</td>\n",
       "    </tr>\n",
       "    <tr>\n",
       "      <th>40</th>\n",
       "      <td>JOB_TITLE_ernie_emb_22</td>\n",
       "      <td>59</td>\n",
       "    </tr>\n",
       "    <tr>\n",
       "      <th>41</th>\n",
       "      <td>JOB_TITLE_ernie_emb_8</td>\n",
       "      <td>59</td>\n",
       "    </tr>\n",
       "    <tr>\n",
       "      <th>42</th>\n",
       "      <td>JOB_TITLE_ernie_emb_9</td>\n",
       "      <td>59</td>\n",
       "    </tr>\n",
       "    <tr>\n",
       "      <th>43</th>\n",
       "      <td>JOB_TITLE_ernie_emb_6</td>\n",
       "      <td>57</td>\n",
       "    </tr>\n",
       "    <tr>\n",
       "      <th>44</th>\n",
       "      <td>JOB_TITLE_ernie_emb_7</td>\n",
       "      <td>56</td>\n",
       "    </tr>\n",
       "    <tr>\n",
       "      <th>45</th>\n",
       "      <td>JOB_TITLE_ernie_emb_18</td>\n",
       "      <td>55</td>\n",
       "    </tr>\n",
       "    <tr>\n",
       "      <th>46</th>\n",
       "      <td>JOB_TITLE_ernie_emb_4</td>\n",
       "      <td>54</td>\n",
       "    </tr>\n",
       "    <tr>\n",
       "      <th>47</th>\n",
       "      <td>recruit_person_MAJOR_score</td>\n",
       "      <td>54</td>\n",
       "    </tr>\n",
       "    <tr>\n",
       "      <th>48</th>\n",
       "      <td>JOB_TITLE_ernie_emb_12</td>\n",
       "      <td>53</td>\n",
       "    </tr>\n",
       "    <tr>\n",
       "      <th>49</th>\n",
       "      <td>JOB_TITLE_ernie_emb_24</td>\n",
       "      <td>53</td>\n",
       "    </tr>\n",
       "    <tr>\n",
       "      <th>50</th>\n",
       "      <td>JOB_TITLE_ernie_emb_16</td>\n",
       "      <td>52</td>\n",
       "    </tr>\n",
       "    <tr>\n",
       "      <th>51</th>\n",
       "      <td>JOB_TITLE_ernie_emb_3</td>\n",
       "      <td>51</td>\n",
       "    </tr>\n",
       "    <tr>\n",
       "      <th>52</th>\n",
       "      <td>JOB_TITLE_ernie_emb_28</td>\n",
       "      <td>50</td>\n",
       "    </tr>\n",
       "    <tr>\n",
       "      <th>53</th>\n",
       "      <td>JOB_TITLE_ernie_emb_20</td>\n",
       "      <td>50</td>\n",
       "    </tr>\n",
       "    <tr>\n",
       "      <th>54</th>\n",
       "      <td>JOB_TITLE_ernie_emb_26</td>\n",
       "      <td>45</td>\n",
       "    </tr>\n",
       "    <tr>\n",
       "      <th>55</th>\n",
       "      <td>LOWER_EDU</td>\n",
       "      <td>43</td>\n",
       "    </tr>\n",
       "    <tr>\n",
       "      <th>56</th>\n",
       "      <td>JOB_HIST_CNT</td>\n",
       "      <td>36</td>\n",
       "    </tr>\n",
       "    <tr>\n",
       "      <th>57</th>\n",
       "      <td>AVAILABLE_IN_DAYS</td>\n",
       "      <td>33</td>\n",
       "    </tr>\n",
       "    <tr>\n",
       "      <th>58</th>\n",
       "      <td>PERSON_TYPE_CODE</td>\n",
       "      <td>31</td>\n",
       "    </tr>\n",
       "    <tr>\n",
       "      <th>59</th>\n",
       "      <td>HIGHEST_EDU</td>\n",
       "      <td>30</td>\n",
       "    </tr>\n",
       "    <tr>\n",
       "      <th>60</th>\n",
       "      <td>LOWER_EDU_HIGHEST_EDU_higher</td>\n",
       "      <td>27</td>\n",
       "    </tr>\n",
       "    <tr>\n",
       "      <th>61</th>\n",
       "      <td>WORK_YEARS_RANGE</td>\n",
       "      <td>26</td>\n",
       "    </tr>\n",
       "    <tr>\n",
       "      <th>62</th>\n",
       "      <td>RECRUIT_LOCATION</td>\n",
       "      <td>25</td>\n",
       "    </tr>\n",
       "    <tr>\n",
       "      <th>63</th>\n",
       "      <td>POSITION_COUNT</td>\n",
       "      <td>22</td>\n",
       "    </tr>\n",
       "    <tr>\n",
       "      <th>64</th>\n",
       "      <td>RECRUIT_MAJOR</td>\n",
       "      <td>19</td>\n",
       "    </tr>\n",
       "    <tr>\n",
       "      <th>65</th>\n",
       "      <td>PERSON_TYPE</td>\n",
       "      <td>18</td>\n",
       "    </tr>\n",
       "    <tr>\n",
       "      <th>66</th>\n",
       "      <td>CV_LOCATION</td>\n",
       "      <td>15</td>\n",
       "    </tr>\n",
       "    <tr>\n",
       "      <th>67</th>\n",
       "      <td>CV_RECRUIT_LOCATION_equal</td>\n",
       "      <td>4</td>\n",
       "    </tr>\n",
       "    <tr>\n",
       "      <th>68</th>\n",
       "      <td>RECRUIT_ID_WORK_YEARS_min</td>\n",
       "      <td>0</td>\n",
       "    </tr>\n",
       "    <tr>\n",
       "      <th>69</th>\n",
       "      <td>recruit_person_POSITION_score</td>\n",
       "      <td>0</td>\n",
       "    </tr>\n",
       "  </tbody>\n",
       "</table>\n",
       "</div>"
      ],
      "text/plain": [
       "                             column  importance\n",
       "0                         PERSON_ID         479\n",
       "1             RECRUIT_ID_LABEL_mean         392\n",
       "2                        RECRUIT_ID         261\n",
       "3              ACHIEVEMENT_LEN_MEAN         255\n",
       "4               ACHIEVEMENT_LEN_SUM         223\n",
       "5                     PERSON_ID_cnt         215\n",
       "6                      POSITION_cnt         212\n",
       "7                      SELF_COMMENT         201\n",
       "8                        WORK_YEARS         194\n",
       "9                          POSITION         178\n",
       "10                     PERSON_MAJOR         166\n",
       "11                    LAST_POSITION         147\n",
       "12       RECRUIT_ID_WORK_YEARS_mean         145\n",
       "13                       DETAIL_LEN         133\n",
       "14        RECRUIT_ID_WORK_YEARS_std         132\n",
       "15      RECRUIT_ID_POSITION_nunique         123\n",
       "16                              AGE         122\n",
       "17                           GENDER         119\n",
       "18                         INDUSTRY         116\n",
       "19                    LAST_INDUSTRY          96\n",
       "20           JOB_TITLE_ernie_emb_14          93\n",
       "21           JOB_TITLE_ernie_emb_11          91\n",
       "22           JOB_TITLE_ernie_emb_19          86\n",
       "23  RECRUIT_ID_PERSON_MAJOR_nunique          84\n",
       "24           JOB_TITLE_ernie_emb_27          84\n",
       "25           JOB_TITLE_ernie_emb_25          81\n",
       "26           JOB_TITLE_ernie_emb_10          81\n",
       "27           CV_LOCATION_LABEL_mean          80\n",
       "28            JOB_TITLE_ernie_emb_0          77\n",
       "29           JOB_TITLE_ernie_emb_29          76\n",
       "30            JOB_TITLE_ernie_emb_2          76\n",
       "31           JOB_TITLE_ernie_emb_17          72\n",
       "32           JOB_TITLE_ernie_emb_13          71\n",
       "33        RECRUIT_ID_WORK_YEARS_max          70\n",
       "34           JOB_TITLE_ernie_emb_23          68\n",
       "35            JOB_TITLE_ernie_emb_1          66\n",
       "36           JOB_TITLE_ernie_emb_21          64\n",
       "37                         CURR_LOC          63\n",
       "38            JOB_TITLE_ernie_emb_5          62\n",
       "39           JOB_TITLE_ernie_emb_15          62\n",
       "40           JOB_TITLE_ernie_emb_22          59\n",
       "41            JOB_TITLE_ernie_emb_8          59\n",
       "42            JOB_TITLE_ernie_emb_9          59\n",
       "43            JOB_TITLE_ernie_emb_6          57\n",
       "44            JOB_TITLE_ernie_emb_7          56\n",
       "45           JOB_TITLE_ernie_emb_18          55\n",
       "46            JOB_TITLE_ernie_emb_4          54\n",
       "47       recruit_person_MAJOR_score          54\n",
       "48           JOB_TITLE_ernie_emb_12          53\n",
       "49           JOB_TITLE_ernie_emb_24          53\n",
       "50           JOB_TITLE_ernie_emb_16          52\n",
       "51            JOB_TITLE_ernie_emb_3          51\n",
       "52           JOB_TITLE_ernie_emb_28          50\n",
       "53           JOB_TITLE_ernie_emb_20          50\n",
       "54           JOB_TITLE_ernie_emb_26          45\n",
       "55                        LOWER_EDU          43\n",
       "56                     JOB_HIST_CNT          36\n",
       "57                AVAILABLE_IN_DAYS          33\n",
       "58                 PERSON_TYPE_CODE          31\n",
       "59                      HIGHEST_EDU          30\n",
       "60     LOWER_EDU_HIGHEST_EDU_higher          27\n",
       "61                 WORK_YEARS_RANGE          26\n",
       "62                 RECRUIT_LOCATION          25\n",
       "63                   POSITION_COUNT          22\n",
       "64                    RECRUIT_MAJOR          19\n",
       "65                      PERSON_TYPE          18\n",
       "66                      CV_LOCATION          15\n",
       "67        CV_RECRUIT_LOCATION_equal           4\n",
       "68        RECRUIT_ID_WORK_YEARS_min           0\n",
       "69    recruit_person_POSITION_score           0"
      ]
     },
     "execution_count": 61,
     "metadata": {},
     "output_type": "execute_result"
    }
   ],
   "source": [
    "#检查特征重要性\n",
    "df_importance = pd.DataFrame({\n",
    "        'column': feature_names,\n",
    "        'importance': lgb_model.feature_importances_,\n",
    "    })\n",
    "df_importance_list.append(df_importance)\n",
    "\n",
    "df_importance = pd.concat(df_importance_list)\n",
    "df_importance = df_importance.groupby(['column'])['importance'].agg('mean').sort_values(ascending=False).reset_index()\n",
    "df_importance   "
   ]
  },
  {
   "cell_type": "code",
   "execution_count": 62,
   "metadata": {
    "ExecuteTime": {
     "end_time": "2021-05-16T12:23:53.408469Z",
     "start_time": "2021-05-16T12:23:53.272645Z"
    },
    "scrolled": true
   },
   "outputs": [
    {
     "data": {
      "text/plain": [
       "(0.8697940295798929, 0.9799267660328369)"
      ]
     },
     "execution_count": 62,
     "metadata": {},
     "output_type": "execute_result"
    }
   ],
   "source": [
    "df_oof = pd.concat(oof)\n",
    "df_oof.sort_values(['pred'], inplace=True, ascending=False)\n",
    "df_oof.reset_index(drop=True, inplace=True)\n",
    "df_oof['pred_label'] = 0\n",
    "df_oof.loc[:int(0.153 * len(df_oof)), 'pred_label'] = 1\n",
    "f1_lgb = f1_score(df_oof[ycol], df_oof['pred_label'])\n",
    "auc = roc_auc_score(df_oof[ycol], df_oof['pred'])\n",
    "f1_lgb, auc"
   ]
  },
  {
   "cell_type": "code",
   "execution_count": 63,
   "metadata": {},
   "outputs": [
    {
     "data": {
      "text/plain": [
       "0    59945\n",
       "1    10829\n",
       "Name: LABEL, dtype: int64"
      ]
     },
     "execution_count": 63,
     "metadata": {},
     "output_type": "execute_result"
    }
   ],
   "source": [
    "lgbprediction.sort_values(['pred'], inplace=True, ascending=False)\n",
    "lgbprediction.reset_index(drop=True, inplace=True)\n",
    "lgbprediction['LABEL'] = 0\n",
    "lgbprediction.loc[:int(0.153 * len(lgbprediction)), 'LABEL'] = 1\n",
    "lgbprediction['LABEL'].value_counts()"
   ]
  },
  {
   "cell_type": "code",
   "execution_count": 64,
   "metadata": {},
   "outputs": [],
   "source": [
    "os.makedirs('sub', exist_ok=True)\n",
    "lgbprediction[['RECRUIT_ID', 'PERSON_ID', 'LABEL']].to_csv('submit/lgb{}.csv'.format(f1_lgb),\n",
    "                                                        index=False)\n",
    "lgbprediction[['RECRUIT_ID', 'PERSON_ID', 'LABEL']].to_csv('submit/submission.csv',\n",
    "                                                        index=False)"
   ]
  },
  {
   "cell_type": "code",
   "execution_count": null,
   "metadata": {},
   "outputs": [],
   "source": []
  }
 ],
 "metadata": {
  "kernelspec": {
   "display_name": "Python 3",
   "language": "python",
   "name": "python3"
  },
  "language_info": {
   "codemirror_mode": {
    "name": "ipython",
    "version": 3
   },
   "file_extension": ".py",
   "mimetype": "text/x-python",
   "name": "python",
   "nbconvert_exporter": "python",
   "pygments_lexer": "ipython3",
   "version": "3.7.4"
  },
  "toc": {
   "base_numbering": 1,
   "nav_menu": {},
   "number_sections": true,
   "sideBar": true,
   "skip_h1_title": false,
   "title_cell": "Table of Contents",
   "title_sidebar": "Contents",
   "toc_cell": false,
   "toc_position": {},
   "toc_section_display": true,
   "toc_window_display": false
  }
 },
 "nbformat": 4,
 "nbformat_minor": 5
}
